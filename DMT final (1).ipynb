{
 "cells": [
  {
   "cell_type": "markdown",
   "id": "3a8eb37a",
   "metadata": {},
   "source": [
    "# Crimes Against Women Analysis"
   ]
  },
  {
   "cell_type": "raw",
   "id": "c4620ae9",
   "metadata": {},
   "source": [
    "About Dataset It has state-wise and district level data on the various crimes committed against women between 2001 to 2014. Crimes that included are :\n",
    "\n",
    "Rape\n",
    "Kidnapping and Abduction\n",
    "Dowry Deaths\n",
    "Assault on women with intent to outrage her modesty\n",
    "Insult to modesty of Women\n",
    "Cruelty by Husband or his Relatives\n",
    "Importation of Girl"
   ]
  },
  {
   "cell_type": "code",
   "execution_count": 476,
   "id": "11ac7d32",
   "metadata": {},
   "outputs": [],
   "source": [
    "import pandas as pd\n",
    "import numpy as np\n",
    "import matplotlib.pyplot as plt\n",
    "import seaborn as sns\n",
    "import datetime \n",
    "import warnings\n",
    "warnings.filterwarnings('ignore')"
   ]
  },
  {
   "cell_type": "markdown",
   "id": "8e7025a6",
   "metadata": {},
   "source": [
    "## Basic information of Data like Shape, data type, null values, Unique Characters"
   ]
  },
  {
   "cell_type": "code",
   "execution_count": 477,
   "id": "146f7698",
   "metadata": {},
   "outputs": [
    {
     "data": {
      "text/plain": [
       "(10186, 13)"
      ]
     },
     "execution_count": 477,
     "metadata": {},
     "output_type": "execute_result"
    }
   ],
   "source": [
    "data = pd.read_csv(r\"C:\\Users\\user\\OneDrive\\Desktop\\DMT FINAL\\completedata.csv\")\n",
    "data.shape"
   ]
  },
  {
   "cell_type": "code",
   "execution_count": 478,
   "id": "95270dd1",
   "metadata": {},
   "outputs": [
    {
     "data": {
      "text/html": [
       "<div>\n",
       "<style scoped>\n",
       "    .dataframe tbody tr th:only-of-type {\n",
       "        vertical-align: middle;\n",
       "    }\n",
       "\n",
       "    .dataframe tbody tr th {\n",
       "        vertical-align: top;\n",
       "    }\n",
       "\n",
       "    .dataframe thead th {\n",
       "        text-align: right;\n",
       "    }\n",
       "</style>\n",
       "<table border=\"1\" class=\"dataframe\">\n",
       "  <thead>\n",
       "    <tr style=\"text-align: right;\">\n",
       "      <th></th>\n",
       "      <th>S.No</th>\n",
       "      <th>STATE/UT</th>\n",
       "      <th>DISTRICT</th>\n",
       "      <th>Year</th>\n",
       "      <th>Rape</th>\n",
       "      <th>Kidnapping and Abduction</th>\n",
       "      <th>Dowry Deaths</th>\n",
       "      <th>Assault on women with intent to outrage her modesty</th>\n",
       "      <th>Insult to modesty of Women</th>\n",
       "      <th>Cruelty by Husband or his Relatives</th>\n",
       "      <th>Importation of Girls</th>\n",
       "      <th>Target</th>\n",
       "      <th>Target_Label</th>\n",
       "    </tr>\n",
       "  </thead>\n",
       "  <tbody>\n",
       "    <tr>\n",
       "      <th>0</th>\n",
       "      <td>1</td>\n",
       "      <td>ANDHRA PRADESH</td>\n",
       "      <td>ADILABAD</td>\n",
       "      <td>2001</td>\n",
       "      <td>50</td>\n",
       "      <td>30</td>\n",
       "      <td>16</td>\n",
       "      <td>149</td>\n",
       "      <td>34</td>\n",
       "      <td>175</td>\n",
       "      <td>0</td>\n",
       "      <td>1397</td>\n",
       "      <td>LOW</td>\n",
       "    </tr>\n",
       "    <tr>\n",
       "      <th>1</th>\n",
       "      <td>2</td>\n",
       "      <td>ANDHRA PRADESH</td>\n",
       "      <td>ANANTAPUR</td>\n",
       "      <td>2001</td>\n",
       "      <td>23</td>\n",
       "      <td>30</td>\n",
       "      <td>7</td>\n",
       "      <td>118</td>\n",
       "      <td>24</td>\n",
       "      <td>154</td>\n",
       "      <td>0</td>\n",
       "      <td>1009</td>\n",
       "      <td>LOW</td>\n",
       "    </tr>\n",
       "    <tr>\n",
       "      <th>2</th>\n",
       "      <td>3</td>\n",
       "      <td>ANDHRA PRADESH</td>\n",
       "      <td>CHITTOOR</td>\n",
       "      <td>2001</td>\n",
       "      <td>27</td>\n",
       "      <td>34</td>\n",
       "      <td>14</td>\n",
       "      <td>112</td>\n",
       "      <td>83</td>\n",
       "      <td>186</td>\n",
       "      <td>0</td>\n",
       "      <td>1200</td>\n",
       "      <td>LOW</td>\n",
       "    </tr>\n",
       "    <tr>\n",
       "      <th>3</th>\n",
       "      <td>4</td>\n",
       "      <td>ANDHRA PRADESH</td>\n",
       "      <td>CUDDAPAH</td>\n",
       "      <td>2001</td>\n",
       "      <td>20</td>\n",
       "      <td>20</td>\n",
       "      <td>17</td>\n",
       "      <td>126</td>\n",
       "      <td>38</td>\n",
       "      <td>57</td>\n",
       "      <td>0</td>\n",
       "      <td>852</td>\n",
       "      <td>LOW</td>\n",
       "    </tr>\n",
       "    <tr>\n",
       "      <th>4</th>\n",
       "      <td>5</td>\n",
       "      <td>ANDHRA PRADESH</td>\n",
       "      <td>EAST GODAVARI</td>\n",
       "      <td>2001</td>\n",
       "      <td>23</td>\n",
       "      <td>26</td>\n",
       "      <td>12</td>\n",
       "      <td>109</td>\n",
       "      <td>58</td>\n",
       "      <td>247</td>\n",
       "      <td>0</td>\n",
       "      <td>1216</td>\n",
       "      <td>LOW</td>\n",
       "    </tr>\n",
       "  </tbody>\n",
       "</table>\n",
       "</div>"
      ],
      "text/plain": [
       "   S.No        STATE/UT       DISTRICT  Year  Rape  Kidnapping and Abduction  \\\n",
       "0     1  ANDHRA PRADESH       ADILABAD  2001    50                        30   \n",
       "1     2  ANDHRA PRADESH      ANANTAPUR  2001    23                        30   \n",
       "2     3  ANDHRA PRADESH       CHITTOOR  2001    27                        34   \n",
       "3     4  ANDHRA PRADESH       CUDDAPAH  2001    20                        20   \n",
       "4     5  ANDHRA PRADESH  EAST GODAVARI  2001    23                        26   \n",
       "\n",
       "   Dowry Deaths  Assault on women with intent to outrage her modesty  \\\n",
       "0            16                                                149     \n",
       "1             7                                                118     \n",
       "2            14                                                112     \n",
       "3            17                                                126     \n",
       "4            12                                                109     \n",
       "\n",
       "   Insult to modesty of Women  Cruelty by Husband or his Relatives  \\\n",
       "0                          34                                  175   \n",
       "1                          24                                  154   \n",
       "2                          83                                  186   \n",
       "3                          38                                   57   \n",
       "4                          58                                  247   \n",
       "\n",
       "   Importation of Girls  Target Target_Label  \n",
       "0                     0    1397          LOW  \n",
       "1                     0    1009          LOW  \n",
       "2                     0    1200          LOW  \n",
       "3                     0     852          LOW  \n",
       "4                     0    1216          LOW  "
      ]
     },
     "execution_count": 478,
     "metadata": {},
     "output_type": "execute_result"
    }
   ],
   "source": [
    "data.head()"
   ]
  },
  {
   "cell_type": "code",
   "execution_count": 479,
   "id": "0ad5dcff",
   "metadata": {},
   "outputs": [
    {
     "name": "stdout",
     "output_type": "stream",
     "text": [
      "<class 'pandas.core.frame.DataFrame'>\n",
      "RangeIndex: 10186 entries, 0 to 10185\n",
      "Data columns (total 13 columns):\n",
      " #   Column                                               Non-Null Count  Dtype \n",
      "---  ------                                               --------------  ----- \n",
      " 0   S.No                                                 10186 non-null  int64 \n",
      " 1   STATE/UT                                             10186 non-null  object\n",
      " 2   DISTRICT                                             10186 non-null  object\n",
      " 3   Year                                                 10186 non-null  int64 \n",
      " 4   Rape                                                 10186 non-null  int64 \n",
      " 5   Kidnapping and Abduction                             10186 non-null  int64 \n",
      " 6   Dowry Deaths                                         10186 non-null  int64 \n",
      " 7   Assault on women with intent to outrage her modesty  10186 non-null  int64 \n",
      " 8   Insult to modesty of Women                           10186 non-null  int64 \n",
      " 9   Cruelty by Husband or his Relatives                  10186 non-null  int64 \n",
      " 10  Importation of Girls                                 10186 non-null  int64 \n",
      " 11  Target                                               10186 non-null  int64 \n",
      " 12  Target_Label                                         10186 non-null  object\n",
      "dtypes: int64(10), object(3)\n",
      "memory usage: 1.0+ MB\n"
     ]
    }
   ],
   "source": [
    "data.info()"
   ]
  },
  {
   "cell_type": "code",
   "execution_count": 480,
   "id": "c92b7b4c",
   "metadata": {},
   "outputs": [
    {
     "data": {
      "text/html": [
       "<div>\n",
       "<style scoped>\n",
       "    .dataframe tbody tr th:only-of-type {\n",
       "        vertical-align: middle;\n",
       "    }\n",
       "\n",
       "    .dataframe tbody tr th {\n",
       "        vertical-align: top;\n",
       "    }\n",
       "\n",
       "    .dataframe thead th {\n",
       "        text-align: right;\n",
       "    }\n",
       "</style>\n",
       "<table border=\"1\" class=\"dataframe\">\n",
       "  <thead>\n",
       "    <tr style=\"text-align: right;\">\n",
       "      <th></th>\n",
       "      <th>S.No</th>\n",
       "      <th>Year</th>\n",
       "      <th>Rape</th>\n",
       "      <th>Kidnapping and Abduction</th>\n",
       "      <th>Dowry Deaths</th>\n",
       "      <th>Assault on women with intent to outrage her modesty</th>\n",
       "      <th>Insult to modesty of Women</th>\n",
       "      <th>Cruelty by Husband or his Relatives</th>\n",
       "      <th>Importation of Girls</th>\n",
       "      <th>Target</th>\n",
       "    </tr>\n",
       "  </thead>\n",
       "  <tbody>\n",
       "    <tr>\n",
       "      <th>count</th>\n",
       "      <td>10186.000000</td>\n",
       "      <td>10186.000000</td>\n",
       "      <td>10186.000000</td>\n",
       "      <td>10186.000000</td>\n",
       "      <td>10186.000000</td>\n",
       "      <td>10186.000000</td>\n",
       "      <td>10186.000000</td>\n",
       "      <td>10186.000000</td>\n",
       "      <td>10186.000000</td>\n",
       "      <td>10186.000000</td>\n",
       "    </tr>\n",
       "    <tr>\n",
       "      <th>mean</th>\n",
       "      <td>5093.500000</td>\n",
       "      <td>2007.706853</td>\n",
       "      <td>30.392598</td>\n",
       "      <td>36.628608</td>\n",
       "      <td>10.577263</td>\n",
       "      <td>59.506087</td>\n",
       "      <td>14.370509</td>\n",
       "      <td>109.654820</td>\n",
       "      <td>0.091891</td>\n",
       "      <td>835.384057</td>\n",
       "    </tr>\n",
       "    <tr>\n",
       "      <th>std</th>\n",
       "      <td>2940.589255</td>\n",
       "      <td>4.047104</td>\n",
       "      <td>34.421687</td>\n",
       "      <td>53.621047</td>\n",
       "      <td>14.305337</td>\n",
       "      <td>77.529300</td>\n",
       "      <td>44.299678</td>\n",
       "      <td>193.378706</td>\n",
       "      <td>1.323404</td>\n",
       "      <td>942.764958</td>\n",
       "    </tr>\n",
       "    <tr>\n",
       "      <th>min</th>\n",
       "      <td>1.000000</td>\n",
       "      <td>2001.000000</td>\n",
       "      <td>0.000000</td>\n",
       "      <td>0.000000</td>\n",
       "      <td>0.000000</td>\n",
       "      <td>0.000000</td>\n",
       "      <td>0.000000</td>\n",
       "      <td>0.000000</td>\n",
       "      <td>0.000000</td>\n",
       "      <td>0.000000</td>\n",
       "    </tr>\n",
       "    <tr>\n",
       "      <th>25%</th>\n",
       "      <td>2547.250000</td>\n",
       "      <td>2004.000000</td>\n",
       "      <td>8.000000</td>\n",
       "      <td>6.000000</td>\n",
       "      <td>1.000000</td>\n",
       "      <td>10.000000</td>\n",
       "      <td>0.000000</td>\n",
       "      <td>11.000000</td>\n",
       "      <td>0.000000</td>\n",
       "      <td>243.000000</td>\n",
       "    </tr>\n",
       "    <tr>\n",
       "      <th>50%</th>\n",
       "      <td>5093.500000</td>\n",
       "      <td>2008.000000</td>\n",
       "      <td>21.000000</td>\n",
       "      <td>19.000000</td>\n",
       "      <td>5.000000</td>\n",
       "      <td>32.000000</td>\n",
       "      <td>1.000000</td>\n",
       "      <td>49.000000</td>\n",
       "      <td>0.000000</td>\n",
       "      <td>588.000000</td>\n",
       "    </tr>\n",
       "    <tr>\n",
       "      <th>75%</th>\n",
       "      <td>7639.750000</td>\n",
       "      <td>2011.000000</td>\n",
       "      <td>42.000000</td>\n",
       "      <td>46.000000</td>\n",
       "      <td>15.000000</td>\n",
       "      <td>79.000000</td>\n",
       "      <td>11.000000</td>\n",
       "      <td>134.000000</td>\n",
       "      <td>0.000000</td>\n",
       "      <td>1111.000000</td>\n",
       "    </tr>\n",
       "    <tr>\n",
       "      <th>max</th>\n",
       "      <td>10186.000000</td>\n",
       "      <td>2014.000000</td>\n",
       "      <td>607.000000</td>\n",
       "      <td>688.000000</td>\n",
       "      <td>178.000000</td>\n",
       "      <td>1626.000000</td>\n",
       "      <td>1257.000000</td>\n",
       "      <td>3504.000000</td>\n",
       "      <td>60.000000</td>\n",
       "      <td>13403.000000</td>\n",
       "    </tr>\n",
       "  </tbody>\n",
       "</table>\n",
       "</div>"
      ],
      "text/plain": [
       "               S.No          Year          Rape  Kidnapping and Abduction  \\\n",
       "count  10186.000000  10186.000000  10186.000000              10186.000000   \n",
       "mean    5093.500000   2007.706853     30.392598                 36.628608   \n",
       "std     2940.589255      4.047104     34.421687                 53.621047   \n",
       "min        1.000000   2001.000000      0.000000                  0.000000   \n",
       "25%     2547.250000   2004.000000      8.000000                  6.000000   \n",
       "50%     5093.500000   2008.000000     21.000000                 19.000000   \n",
       "75%     7639.750000   2011.000000     42.000000                 46.000000   \n",
       "max    10186.000000   2014.000000    607.000000                688.000000   \n",
       "\n",
       "       Dowry Deaths  Assault on women with intent to outrage her modesty  \\\n",
       "count  10186.000000                                       10186.000000     \n",
       "mean      10.577263                                          59.506087     \n",
       "std       14.305337                                          77.529300     \n",
       "min        0.000000                                           0.000000     \n",
       "25%        1.000000                                          10.000000     \n",
       "50%        5.000000                                          32.000000     \n",
       "75%       15.000000                                          79.000000     \n",
       "max      178.000000                                        1626.000000     \n",
       "\n",
       "       Insult to modesty of Women  Cruelty by Husband or his Relatives  \\\n",
       "count                10186.000000                         10186.000000   \n",
       "mean                    14.370509                           109.654820   \n",
       "std                     44.299678                           193.378706   \n",
       "min                      0.000000                             0.000000   \n",
       "25%                      0.000000                            11.000000   \n",
       "50%                      1.000000                            49.000000   \n",
       "75%                     11.000000                           134.000000   \n",
       "max                   1257.000000                          3504.000000   \n",
       "\n",
       "       Importation of Girls        Target  \n",
       "count          10186.000000  10186.000000  \n",
       "mean               0.091891    835.384057  \n",
       "std                1.323404    942.764958  \n",
       "min                0.000000      0.000000  \n",
       "25%                0.000000    243.000000  \n",
       "50%                0.000000    588.000000  \n",
       "75%                0.000000   1111.000000  \n",
       "max               60.000000  13403.000000  "
      ]
     },
     "execution_count": 480,
     "metadata": {},
     "output_type": "execute_result"
    }
   ],
   "source": [
    "data.describe()"
   ]
  },
  {
   "cell_type": "code",
   "execution_count": 481,
   "id": "c1871665",
   "metadata": {},
   "outputs": [
    {
     "data": {
      "text/plain": [
       "S.No                                                   0\n",
       "STATE/UT                                               0\n",
       "DISTRICT                                               0\n",
       "Year                                                   0\n",
       "Rape                                                   0\n",
       "Kidnapping and Abduction                               0\n",
       "Dowry Deaths                                           0\n",
       "Assault on women with intent to outrage her modesty    0\n",
       "Insult to modesty of Women                             0\n",
       "Cruelty by Husband or his Relatives                    0\n",
       "Importation of Girls                                   0\n",
       "Target                                                 0\n",
       "Target_Label                                           0\n",
       "dtype: int64"
      ]
     },
     "execution_count": 481,
     "metadata": {},
     "output_type": "execute_result"
    }
   ],
   "source": [
    "data.isnull().sum()"
   ]
  },
  {
   "cell_type": "code",
   "execution_count": 482,
   "id": "69e73cf8",
   "metadata": {},
   "outputs": [
    {
     "data": {
      "text/plain": [
       "S.No                                                   10186\n",
       "STATE/UT                                                  72\n",
       "DISTRICT                                                1601\n",
       "Year                                                      14\n",
       "Rape                                                     227\n",
       "Kidnapping and Abduction                                 338\n",
       "Dowry Deaths                                             101\n",
       "Assault on women with intent to outrage her modesty      411\n",
       "Insult to modesty of Women                               272\n",
       "Cruelty by Husband or his Relatives                      730\n",
       "Importation of Girls                                      24\n",
       "Target                                                  2522\n",
       "Target_Label                                               3\n",
       "dtype: int64"
      ]
     },
     "execution_count": 482,
     "metadata": {},
     "output_type": "execute_result"
    }
   ],
   "source": [
    "data.nunique()"
   ]
  },
  {
   "cell_type": "code",
   "execution_count": 483,
   "id": "94cdaeee",
   "metadata": {},
   "outputs": [],
   "source": [
    "data = data.drop(\"S.No\",axis=1)"
   ]
  },
  {
   "cell_type": "code",
   "execution_count": 484,
   "id": "d52b9e2e",
   "metadata": {},
   "outputs": [
    {
     "data": {
      "text/html": [
       "<div>\n",
       "<style scoped>\n",
       "    .dataframe tbody tr th:only-of-type {\n",
       "        vertical-align: middle;\n",
       "    }\n",
       "\n",
       "    .dataframe tbody tr th {\n",
       "        vertical-align: top;\n",
       "    }\n",
       "\n",
       "    .dataframe thead th {\n",
       "        text-align: right;\n",
       "    }\n",
       "</style>\n",
       "<table border=\"1\" class=\"dataframe\">\n",
       "  <thead>\n",
       "    <tr style=\"text-align: right;\">\n",
       "      <th></th>\n",
       "      <th>STATE/UT</th>\n",
       "      <th>DISTRICT</th>\n",
       "      <th>Year</th>\n",
       "      <th>Rape</th>\n",
       "      <th>Kidnapping and Abduction</th>\n",
       "      <th>Dowry Deaths</th>\n",
       "      <th>Assault on women with intent to outrage her modesty</th>\n",
       "      <th>Insult to modesty of Women</th>\n",
       "      <th>Cruelty by Husband or his Relatives</th>\n",
       "      <th>Importation of Girls</th>\n",
       "      <th>Target</th>\n",
       "      <th>Target_Label</th>\n",
       "    </tr>\n",
       "  </thead>\n",
       "  <tbody>\n",
       "    <tr>\n",
       "      <th>0</th>\n",
       "      <td>ANDHRA PRADESH</td>\n",
       "      <td>ADILABAD</td>\n",
       "      <td>2001</td>\n",
       "      <td>50</td>\n",
       "      <td>30</td>\n",
       "      <td>16</td>\n",
       "      <td>149</td>\n",
       "      <td>34</td>\n",
       "      <td>175</td>\n",
       "      <td>0</td>\n",
       "      <td>1397</td>\n",
       "      <td>LOW</td>\n",
       "    </tr>\n",
       "    <tr>\n",
       "      <th>1</th>\n",
       "      <td>ANDHRA PRADESH</td>\n",
       "      <td>ANANTAPUR</td>\n",
       "      <td>2001</td>\n",
       "      <td>23</td>\n",
       "      <td>30</td>\n",
       "      <td>7</td>\n",
       "      <td>118</td>\n",
       "      <td>24</td>\n",
       "      <td>154</td>\n",
       "      <td>0</td>\n",
       "      <td>1009</td>\n",
       "      <td>LOW</td>\n",
       "    </tr>\n",
       "    <tr>\n",
       "      <th>2</th>\n",
       "      <td>ANDHRA PRADESH</td>\n",
       "      <td>CHITTOOR</td>\n",
       "      <td>2001</td>\n",
       "      <td>27</td>\n",
       "      <td>34</td>\n",
       "      <td>14</td>\n",
       "      <td>112</td>\n",
       "      <td>83</td>\n",
       "      <td>186</td>\n",
       "      <td>0</td>\n",
       "      <td>1200</td>\n",
       "      <td>LOW</td>\n",
       "    </tr>\n",
       "    <tr>\n",
       "      <th>3</th>\n",
       "      <td>ANDHRA PRADESH</td>\n",
       "      <td>CUDDAPAH</td>\n",
       "      <td>2001</td>\n",
       "      <td>20</td>\n",
       "      <td>20</td>\n",
       "      <td>17</td>\n",
       "      <td>126</td>\n",
       "      <td>38</td>\n",
       "      <td>57</td>\n",
       "      <td>0</td>\n",
       "      <td>852</td>\n",
       "      <td>LOW</td>\n",
       "    </tr>\n",
       "    <tr>\n",
       "      <th>4</th>\n",
       "      <td>ANDHRA PRADESH</td>\n",
       "      <td>EAST GODAVARI</td>\n",
       "      <td>2001</td>\n",
       "      <td>23</td>\n",
       "      <td>26</td>\n",
       "      <td>12</td>\n",
       "      <td>109</td>\n",
       "      <td>58</td>\n",
       "      <td>247</td>\n",
       "      <td>0</td>\n",
       "      <td>1216</td>\n",
       "      <td>LOW</td>\n",
       "    </tr>\n",
       "  </tbody>\n",
       "</table>\n",
       "</div>"
      ],
      "text/plain": [
       "         STATE/UT       DISTRICT  Year  Rape  Kidnapping and Abduction  \\\n",
       "0  ANDHRA PRADESH       ADILABAD  2001    50                        30   \n",
       "1  ANDHRA PRADESH      ANANTAPUR  2001    23                        30   \n",
       "2  ANDHRA PRADESH       CHITTOOR  2001    27                        34   \n",
       "3  ANDHRA PRADESH       CUDDAPAH  2001    20                        20   \n",
       "4  ANDHRA PRADESH  EAST GODAVARI  2001    23                        26   \n",
       "\n",
       "   Dowry Deaths  Assault on women with intent to outrage her modesty  \\\n",
       "0            16                                                149     \n",
       "1             7                                                118     \n",
       "2            14                                                112     \n",
       "3            17                                                126     \n",
       "4            12                                                109     \n",
       "\n",
       "   Insult to modesty of Women  Cruelty by Husband or his Relatives  \\\n",
       "0                          34                                  175   \n",
       "1                          24                                  154   \n",
       "2                          83                                  186   \n",
       "3                          38                                   57   \n",
       "4                          58                                  247   \n",
       "\n",
       "   Importation of Girls  Target Target_Label  \n",
       "0                     0    1397          LOW  \n",
       "1                     0    1009          LOW  \n",
       "2                     0    1200          LOW  \n",
       "3                     0     852          LOW  \n",
       "4                     0    1216          LOW  "
      ]
     },
     "execution_count": 484,
     "metadata": {},
     "output_type": "execute_result"
    }
   ],
   "source": [
    "data.head()"
   ]
  },
  {
   "cell_type": "code",
   "execution_count": 485,
   "id": "73879789",
   "metadata": {},
   "outputs": [
    {
     "data": {
      "text/plain": [
       "['ANDHRA PRADESH',\n",
       " 'ARUNACHAL PRADESH',\n",
       " 'ASSAM',\n",
       " 'BIHAR',\n",
       " 'CHHATTISGARH',\n",
       " 'GOA',\n",
       " 'GUJARAT',\n",
       " 'HARYANA',\n",
       " 'HIMACHAL PRADESH',\n",
       " 'JAMMU & KASHMIR',\n",
       " 'JHARKHAND',\n",
       " 'KARNATAKA',\n",
       " 'KERALA',\n",
       " 'MADHYA PRADESH',\n",
       " 'MAHARASHTRA',\n",
       " 'MANIPUR',\n",
       " 'MEGHALAYA',\n",
       " 'MIZORAM',\n",
       " 'NAGALAND',\n",
       " 'ODISHA',\n",
       " 'PUNJAB',\n",
       " 'RAJASTHAN',\n",
       " 'SIKKIM',\n",
       " 'TAMIL NADU',\n",
       " 'TRIPURA',\n",
       " 'UTTAR PRADESH',\n",
       " 'UTTARAKHAND',\n",
       " 'WEST BENGAL',\n",
       " 'A & N ISLANDS',\n",
       " 'CHANDIGARH',\n",
       " 'D & N HAVELI',\n",
       " 'DAMAN & DIU',\n",
       " 'DELHI',\n",
       " 'LAKSHADWEEP',\n",
       " 'PUDUCHERRY',\n",
       " 'Andhra Pradesh',\n",
       " 'Arunachal Pradesh',\n",
       " 'Assam',\n",
       " 'Bihar',\n",
       " 'Chhattisgarh',\n",
       " 'Goa',\n",
       " 'Gujarat',\n",
       " 'Haryana',\n",
       " 'Himachal Pradesh',\n",
       " 'Jammu & Kashmir',\n",
       " 'Jharkhand',\n",
       " 'Karnataka',\n",
       " 'Kerala',\n",
       " 'Madhya Pradesh',\n",
       " 'Maharashtra',\n",
       " 'Manipur',\n",
       " 'Meghalaya',\n",
       " 'Mizoram',\n",
       " 'Nagaland',\n",
       " 'Odisha',\n",
       " 'Punjab',\n",
       " 'Rajasthan',\n",
       " 'Sikkim',\n",
       " 'Tamil Nadu',\n",
       " 'Tripura',\n",
       " 'Uttar Pradesh',\n",
       " 'Uttarakhand',\n",
       " 'West Bengal',\n",
       " 'A&N Islands',\n",
       " 'Chandigarh',\n",
       " 'D&N Haveli',\n",
       " 'Daman & Diu',\n",
       " 'Delhi UT',\n",
       " 'Lakshadweep',\n",
       " 'Puducherry',\n",
       " 'Telangana',\n",
       " 'A & N Islands']"
      ]
     },
     "execution_count": 485,
     "metadata": {},
     "output_type": "execute_result"
    }
   ],
   "source": [
    "list(data[\"STATE/UT\"].unique())"
   ]
  },
  {
   "cell_type": "markdown",
   "id": "b9960077",
   "metadata": {},
   "source": [
    "## Data Cleaning"
   ]
  },
  {
   "cell_type": "markdown",
   "id": "3288209a",
   "metadata": {},
   "source": [
    "### Data Cleaning on STATE/UT Column"
   ]
  },
  {
   "cell_type": "raw",
   "id": "cdd644ed",
   "metadata": {},
   "source": [
    "\n",
    "In India we have only 36 States/UT but as per the data it has 72 States/UT, so we deep dive into find the errors and fix it, When we see the STATE/UT list we came to know that some of them are entered in upper Case and some in lower case. so the count has increased than actual. To clear this issue we converted all to a lower case and then also it shows 3 No. higher than the actual and while inspecting found that there is spacing issues and then fixed it to obtain the actual.\n",
    "\n",
    "So, it is always good to compare it with the real data."
   ]
  },
  {
   "cell_type": "code",
   "execution_count": 486,
   "id": "fcb32a66",
   "metadata": {},
   "outputs": [
    {
     "data": {
      "text/plain": [
       "72"
      ]
     },
     "execution_count": 486,
     "metadata": {},
     "output_type": "execute_result"
    }
   ],
   "source": [
    "list(data[\"STATE/UT\"].unique())\n",
    "len(list(data[\"STATE/UT\"].unique()))"
   ]
  },
  {
   "cell_type": "code",
   "execution_count": 487,
   "id": "812a5b78",
   "metadata": {},
   "outputs": [],
   "source": [
    "data.replace({'A&N Islands':'A & N Islands','D&N Haveli':'D & N HAVELI','Delhi UT':'DELHI'},inplace=True)"
   ]
  },
  {
   "cell_type": "code",
   "execution_count": 488,
   "id": "98cb1d1e",
   "metadata": {},
   "outputs": [
    {
     "data": {
      "text/plain": [
       "69"
      ]
     },
     "execution_count": 488,
     "metadata": {},
     "output_type": "execute_result"
    }
   ],
   "source": [
    "len(list(data[\"STATE/UT\"].unique()))"
   ]
  },
  {
   "cell_type": "code",
   "execution_count": 489,
   "id": "ee49bf61",
   "metadata": {},
   "outputs": [],
   "source": [
    "data[\"STATE/UT\"]=data[\"STATE/UT\"].str.casefold()"
   ]
  },
  {
   "cell_type": "code",
   "execution_count": 490,
   "id": "5f72c22f",
   "metadata": {},
   "outputs": [
    {
     "data": {
      "text/plain": [
       "36"
      ]
     },
     "execution_count": 490,
     "metadata": {},
     "output_type": "execute_result"
    }
   ],
   "source": [
    "len(list(data[\"STATE/UT\"].unique()))"
   ]
  },
  {
   "cell_type": "code",
   "execution_count": 491,
   "id": "36af7eee",
   "metadata": {},
   "outputs": [
    {
     "data": {
      "text/plain": [
       "G.R.P.          49\n",
       "SOUTH           41\n",
       "NORTH           41\n",
       "WEST            39\n",
       "RAILWAYS        37\n",
       "                ..\n",
       "Jorhat           1\n",
       "Jalna            1\n",
       "Deoria           1\n",
       "Nagapattinam     1\n",
       "Budgam           1\n",
       "Name: DISTRICT, Length: 1601, dtype: int64"
      ]
     },
     "execution_count": 491,
     "metadata": {},
     "output_type": "execute_result"
    }
   ],
   "source": [
    "data[\"DISTRICT\"].value_counts()"
   ]
  },
  {
   "cell_type": "markdown",
   "id": "e22a29b2",
   "metadata": {},
   "source": [
    "### Data Cleaning on DISTRICT"
   ]
  },
  {
   "cell_type": "raw",
   "id": "d55f55fe",
   "metadata": {},
   "source": [
    "Initially we converted all the entries to lower case, and then obtained the unique list of District, while inspecting found that it has entries like \"total\", \"zz total\", \"total district(s)\", \"delhi ut total\" this doesn't look like an district name so while investigating it seems to be an total value of that state on each crime. If it present in the data it will mess up the data by increasing the No. of cases in each category so, found the indexes of that total and removed from the dataset."
   ]
  },
  {
   "cell_type": "code",
   "execution_count": 492,
   "id": "fc11b3d2",
   "metadata": {},
   "outputs": [],
   "source": [
    "data[\"DISTRICT\"]=data[\"DISTRICT\"].str.lower()"
   ]
  },
  {
   "cell_type": "code",
   "execution_count": 493,
   "id": "10676808",
   "metadata": {},
   "outputs": [],
   "source": [
    "data=data.drop(list(data[data[\"DISTRICT\"]==\"total\"].index))"
   ]
  },
  {
   "cell_type": "code",
   "execution_count": 494,
   "id": "3c337692",
   "metadata": {},
   "outputs": [
    {
     "data": {
      "text/plain": [
       "0"
      ]
     },
     "execution_count": 494,
     "metadata": {},
     "output_type": "execute_result"
    }
   ],
   "source": [
    "len(list(data[data[\"DISTRICT\"]==\"zz total\"].index))"
   ]
  },
  {
   "cell_type": "code",
   "execution_count": 495,
   "id": "4a8e46cb",
   "metadata": {},
   "outputs": [
    {
     "data": {
      "text/plain": [
       "0"
      ]
     },
     "execution_count": 495,
     "metadata": {},
     "output_type": "execute_result"
    }
   ],
   "source": [
    "len(list(data[data[\"DISTRICT\"]==\"total district(s)\"].index))"
   ]
  },
  {
   "cell_type": "code",
   "execution_count": 496,
   "id": "dbb0562b",
   "metadata": {},
   "outputs": [
    {
     "data": {
      "text/plain": [
       "0"
      ]
     },
     "execution_count": 496,
     "metadata": {},
     "output_type": "execute_result"
    }
   ],
   "source": [
    "len(list(data[data[\"DISTRICT\"]==\"delhi ut total\"].index))"
   ]
  },
  {
   "cell_type": "code",
   "execution_count": 497,
   "id": "b4bf63c4",
   "metadata": {},
   "outputs": [],
   "source": [
    "data = data.drop(list(data[data[\"DISTRICT\"]==\"zz total\"].index))"
   ]
  },
  {
   "cell_type": "code",
   "execution_count": 498,
   "id": "9467acbd",
   "metadata": {},
   "outputs": [],
   "source": [
    "data = data.drop(list(data[data[\"DISTRICT\"]==\"total district(s)\"].index))"
   ]
  },
  {
   "cell_type": "code",
   "execution_count": 499,
   "id": "d927a6b5",
   "metadata": {},
   "outputs": [],
   "source": [
    "data = data.drop(list(data[data[\"DISTRICT\"]==\"delhi ut total\"].index))"
   ]
  },
  {
   "cell_type": "code",
   "execution_count": 500,
   "id": "1abd6f9e",
   "metadata": {},
   "outputs": [
    {
     "data": {
      "text/plain": [
       "g.r.p.             49\n",
       "north              44\n",
       "south              44\n",
       "west               42\n",
       "railways           38\n",
       "                   ..\n",
       "kachchh east(g)     1\n",
       "srp (rourkela)      1\n",
       "mungali             1\n",
       "sabarkantha         1\n",
       "k.railways          1\n",
       "Name: DISTRICT, Length: 955, dtype: int64"
      ]
     },
     "execution_count": 500,
     "metadata": {},
     "output_type": "execute_result"
    }
   ],
   "source": [
    "data[\"DISTRICT\"].value_counts()"
   ]
  },
  {
   "cell_type": "code",
   "execution_count": 501,
   "id": "f97a269f",
   "metadata": {},
   "outputs": [
    {
     "data": {
      "text/plain": [
       "array(['adilabad', 'anantapur', 'chittoor', 'cuddapah', 'east godavari',\n",
       "       'guntakal rly.', 'guntur', 'hyderabad city', 'karimnagar',\n",
       "       'khammam', 'krishna', 'kurnool', 'mahaboobnagar', 'medak',\n",
       "       'nalgonda', 'nellore', 'nizamabad', 'prakasham', 'ranga reddy',\n",
       "       'secunderabad rly.', 'srikakulam', 'vijayawada', 'vijayawada rly.',\n",
       "       'visakha rural', 'visakhapatnam', 'vizianagaram', 'warangal',\n",
       "       'west godavari', 'changlang', 'dibang valley', 'kameng east',\n",
       "       'kameng west', 'lohit', 'papum pare', 'siang east', 'siang upper',\n",
       "       'siang west', 'subansiri lower', 'subansiri upper', 'tawang',\n",
       "       'tirap', 'barpeta', 'bongaigaon', 'c.i.d.', 'cachar', 'darrang',\n",
       "       'dhemaji', 'dhubri', 'dibrugarh', 'g.r.p.', 'goalpara', 'golaghat',\n",
       "       'guwahati city', 'hailakandi', 'jorhat', 'kamrup', 'karbi anglong',\n",
       "       'karimganj', 'kokrajhar', 'lakhimpur', 'morigaon', 'n.c.hills',\n",
       "       'nagaon', 'nalbari', 'r.p.o.', 'sibsagar', 'sonitpur', 'tinsukia',\n",
       "       'araria', 'arwal', 'aurangabad', 'bagaha', 'banka', 'begusarai',\n",
       "       'bettiah', 'bhabhua', 'bhagalpur', 'bhojpur', 'buxar', 'darbhanga',\n",
       "       'gaya', 'gopalganj', 'jamalpur rly.', 'jamui', 'jehanabad',\n",
       "       'katihar', 'katihar rly.', 'khagaria', 'kishanganj', 'lakhisarai',\n",
       "       'madhepura', 'madhubani', 'motihari', 'munger', 'muzaffarpur',\n",
       "       'muzaffarpur rly.', 'nalanda', 'naugachia', 'nawadah', 'patna',\n",
       "       'patna rly.', 'purnea', 'rohtas', 'saharsa', 'samastipur', 'saran',\n",
       "       'sheikhpura', 'sheohar', 'sitamarhi', 'siwan', 'supaul',\n",
       "       'vaishali', 'balrampur', 'bilaspur', 'bizapur', 'dantewara',\n",
       "       'dhamtari', 'durg', 'grp raipur', 'jagdalpur', 'janjgir',\n",
       "       'jashpur', 'kanker', 'kawardha', 'korba', 'koriya', 'mahasamund',\n",
       "       'raigarh', 'raipur', 'rajnandgaon', 'sarguja', 'north goa',\n",
       "       'south goa', 'ahmedabad commr.', 'ahmedabad rural', 'ahwa-dang',\n",
       "       'amreli', 'anand', 'bharuch', 'bhavnagar', 'dahod', 'gandhinagar',\n",
       "       'himatnagar', 'jamnagar', 'junagadh', 'kheda north', 'kutch',\n",
       "       'mehsana', 'narmada', 'navsari', 'palanpur', 'panchmahal', 'patan',\n",
       "       'porbandar', 'rajkot commr.', 'rajkot rural', 'surat commr.',\n",
       "       'surat rural', 'surendranagar', 'vadodara commr.',\n",
       "       'vadodara rural', 'valsad', 'w.rly', 'ambala', 'bhiwani',\n",
       "       'faridabad', 'fatehabad', 'grp', 'gurgaon', 'hissar', 'jhajjar',\n",
       "       'jind', 'kaithal', 'karnal', 'kurukshetra', 'mahendragarh',\n",
       "       'panchkula', 'panipat', 'rewari', 'rohtak', 'sirsa', 'sonipat',\n",
       "       'yamunanagar', 'chamba', 'hamirpur', 'kangra', 'kinnaur', 'kullu',\n",
       "       'lahaul-spiti', 'mandi', 'shimla', 'sirmaur', 'solan', 'una',\n",
       "       'anantnag', 'awantipora', 'baramulla', 'border', 'budgam',\n",
       "       'crime jammu', 'crime srinagar', 'doda', 'ganderbal', 'jammu',\n",
       "       'kargil', 'kathua', 'kulgam', 'kupwara', 'leh', 'poonch',\n",
       "       'pulwama', 'railways', 'rajouri', 'ramban', 'reasi', 'srinagar',\n",
       "       'udhampur', 'bokaro', 'chaibasa', 'chatra', 'deoghar', 'dhanbad',\n",
       "       'dhanbad rly.', 'dumka', 'garhwa', 'giridih', 'godda', 'gumla',\n",
       "       'hazaribagh', 'jamshedpur', 'jamshedpur rly.', 'jamtara',\n",
       "       'koderma', 'latehar', 'lohardagga', 'pakur', 'palamu', 'ranchi',\n",
       "       'sahebganj', 'saraikela', 'simdega', 'bagalkot',\n",
       "       'bangalore commr.', 'bangalore rural', 'belgaum', 'bellary',\n",
       "       'bidar', 'bijapur', 'chamarajnagar', 'chickmagalur', 'chitradurga',\n",
       "       'dakshin kannada', 'davanagere', 'dharwad commr.', 'dharwad rural',\n",
       "       'gadag', 'gulbarga', 'hassan', 'haveri', 'k.g.f.', 'kodagu',\n",
       "       'kolar', 'koppal', 'mandya', 'mysore commr.', 'mysore rural',\n",
       "       'raichur', 'shimoga', 'tumkur', 'udupi', 'uttar kannada',\n",
       "       'alapuzha', 'cbcid', 'ernakulam', 'idukki', 'kannur', 'kasargod',\n",
       "       'kollam', 'kottayam', 'kozhikode', 'malappuram', 'palakkad',\n",
       "       'pathanamthitta', 'thrissur', 'trivandrum', 'wayanadu', 'balaghat',\n",
       "       'barwani', 'betul', 'bhind', 'bhopal', 'bhopal rly.', 'chhatarpur',\n",
       "       'chhindwara', 'damoh', 'datiya', 'dewas', 'dhar', 'dindori',\n",
       "       'guna', 'gwalior', 'harda', 'hoshangabad', 'indore', 'indore rly.',\n",
       "       'jabalpur', 'jabalpur rly.', 'jhabua', 'katni', 'khandwa',\n",
       "       'khargon', 'mandla', 'mandsaur', 'morena', 'narsinghpur',\n",
       "       'neemuch', 'panna', 'raisen', 'rajgarh', 'ratlam', 'rewa', 'sagar',\n",
       "       'satna', 'seoni', 'shahdol', 'shajapur', 'sheopur', 'shivpuri',\n",
       "       'sidhi', 'sihore', 'tikamgarh', 'ujjain', 'umariya', 'vidisha',\n",
       "       'ahmednagar', 'akola', 'amravati commr.', 'amravati rural',\n",
       "       'aurangabad commr.', 'aurangabad rural', 'beed', 'bhandara',\n",
       "       'buldhana', 'chandrapur', 'dhule', 'gadchiroli', 'gondia',\n",
       "       'hingoli', 'jalgaon', 'jalna', 'kolhapur', 'latur', 'mumbai',\n",
       "       'mumbai rly.', 'nagpur commr.', 'nagpur rly.', 'nagpur rural',\n",
       "       'nanded', 'nandurbar', 'nasik commr.', 'nasik rural',\n",
       "       'navi mumbai', 'osmanabad', 'parbhani', 'pune commr.', 'pune rly.',\n",
       "       'pune rural', 'raigad', 'ratnagiri', 'sangli', 'satara',\n",
       "       'sindhudurg', 'solapur commr.', 'solapur rural', 'thane commr.',\n",
       "       'thane rural', 'wardha', 'washim', 'yavatmal', 'bishnupur',\n",
       "       'chandel', 'churachandpur', 'imphal(east)', 'imphal(west)',\n",
       "       'senapati', 'tamenglong', 'thoubal', 'ukhrul', 'garo hills east',\n",
       "       'garo hills south', 'garo hills west', 'jaintia hills',\n",
       "       'khasi hills east', 'khasi hills west', 'ri-bhoi', 'aizawl',\n",
       "       'champhai', 'kolasib', 'lawngtlai', 'lunglei', 'mamit', 'saiha',\n",
       "       'serchhip', 'dimapur', 'kiphire', 'kohima', 'mokokchung', 'mon',\n",
       "       'peren', 'phek', 'tuensang', 'wokha', 'zunheboto', 'angul',\n",
       "       'balasore', 'baragarh', 'berhampur', 'bhadrak', 'bolangir',\n",
       "       'boudh', 'cuttack', 'deogarh', 'dhenkanal', 'gajapati', 'ganjam',\n",
       "       'jagatsinghpur', 'jajpur', 'jharsuguda', 'kalahandi', 'kandhamal',\n",
       "       'kendrapara', 'keonjhar', 'khurda', 'koraput', 'malkangir',\n",
       "       'mayurbhanj', 'nayagarh', 'nowrangpur', 'nuapada', 'puri',\n",
       "       'rayagada', 'rourkela', 'sambalpur', 'sonepur', 'srp(cuttack)',\n",
       "       'srp(rourkela)', 'sundargarh', 'amritsar', 'barnala', 'batala',\n",
       "       'bhatinda', 'faridkot', 'fatehgarh sahib', 'ferozepur', 'g.r.p',\n",
       "       'gurdaspur', 'hoshiarpur', 'jagraon', 'jalandhar', 'kapurthala',\n",
       "       'khanna', 'ludhiana', 'majitha', 'mansa', 'moga', 'muktsar',\n",
       "       'nawan shahr', 'patiala', 'ropar', 'sangrur', 'tarn taran',\n",
       "       'ajmer', 'alwar', 'banswara', 'baran', 'barmer', 'bharatpur',\n",
       "       'bhilwara', 'bikaner', 'bundi', 'chittorgarh', 'churu', 'dausa',\n",
       "       'dholpur', 'dungarpur', 'ganganagar', 'hanumangarh', 'jaipur',\n",
       "       'jaisalmer', 'jalore', 'jhalawar', 'jhunjhunu', 'jodhpur',\n",
       "       'karauli', 'kota', 'nagaur', 'pali', 'rajsamand', 'sawai madhopur',\n",
       "       'sikar', 'sirohi', 'tonk', 'udaipur', 'east', 'north', 'south',\n",
       "       'west', 'ariyalur', 'chengai', 'chennai', 'chennai rly.',\n",
       "       'coimbatore rural', 'coimbatore urban', 'cuddalore', 'dharmapuri',\n",
       "       'dindigul', 'erode', 'kanchipuram', 'kanyakumari', 'karur',\n",
       "       'madurai rural', 'madurai urban', 'nagapattinam', 'namakkal',\n",
       "       'nilgiris', 'perambalur', 'pudukottai', 'ramnathapuram',\n",
       "       'salem rural', 'salem urban', 'sivagangai', 'thanjavur', 'theni',\n",
       "       'thirunelveli rural', 'thirunelveli urban', 'thiruvallur',\n",
       "       'thiruvannamalai', 'thiruvarur', 'thoothugudi', 'trichy rly.',\n",
       "       'trichy rural', 'trichy urban', 'vellore', 'villupuram',\n",
       "       'virudhunagar', 'dhalai', 'agra', 'aligarh', 'allahabad',\n",
       "       'ambedkar nagar', 'auraiya', 'azamgarh', 'badaun', 'baghpat',\n",
       "       'bahraich', 'ballia', 'banda', 'barabanki', 'bareilly', 'basti',\n",
       "       'bijnor', 'bulandshahar', 'chandoli', 'chitrakoot dham', 'deoria',\n",
       "       'etah', 'etawah', 'faizabad', 'fatehgarh', 'fatehpur', 'firozabad',\n",
       "       'gautambudh nagar', 'ghaziabad', 'ghazipur', 'gonda', 'gorakhpur',\n",
       "       'hardoi', 'hathras', 'j.p.nagar', 'jalaun', 'jaunpur', 'jhansi',\n",
       "       'kannauj', 'kanpur dehat', 'kanpur nagar', 'kaushambi', 'khiri',\n",
       "       'kushi nagar', 'lalitpur', 'lucknow', 'maharajganj', 'mahoba',\n",
       "       'mainpuri', 'mathura', 'mau', 'meerut', 'mirzapur', 'moradabad',\n",
       "       'muzaffarnagar', 'pilibhit', 'pratapgarh', 'raibareilly', 'rampur',\n",
       "       'saharanpur', 'sant kabirnagar', 'shahjahanpur', 'shrawasti',\n",
       "       'sidharthnagar', 'sitapur', 'sonbhadra', 'st.ravidasnagar',\n",
       "       'sultanpur', 'unnao', 'varanasi', 'almora', 'bageshwar', 'chamoli',\n",
       "       'champawat', 'dehradun', 'haridwar', 'nainital', 'pauri garhwal',\n",
       "       'pithoragarh', 'rudra prayag', 'tehri garhwal', 'udhamsingh nagar',\n",
       "       'uttarkashi', '24 parganas north', '24 parganas south', 'asansol',\n",
       "       'bankura', 'birbhum', 'burdwan', 'coochbehar', 'dakshin dinajpur',\n",
       "       'darjeeling', 'hooghly', 'howrah', 'howrah city', 'howrah g.r.p.',\n",
       "       'jalpaiguri', 'kolkata', 'malda', 'midnapur', 'murshidabad',\n",
       "       'nadia', 'purulia', 'sealdah g.r.p.', 'siliguri g.r.p.',\n",
       "       'uttar dinajpur', 'andaman', 'nicobar', 'chandigarh',\n",
       "       'd and n haveli', 'daman', 'diu', 'central', 'g.r.p.(rly)',\n",
       "       'i.g.i. airport', 'new delhi', 'north east', 'north west',\n",
       "       's.t.f.', 'south west', 'lakshadweep', 'pondicherry', 'kabirdham',\n",
       "       'handwara', 'kharagpur g.r.p.', 'paschim midnapur',\n",
       "       'purab midnapur', 'spl cell', 'cyberabad', 'k/kumey',\n",
       "       'upper dibang valley', 'narayanpur', 'ernakulam commr.',\n",
       "       'ernakulam rural', 'kozhikode commr.', 'kozhikode rural',\n",
       "       'trivandrum commr.', 'trivandrum rural', 'anuppur', 'ashok nagar',\n",
       "       'burhanpur', 'krishnagiri', 'baska', 'chirang', 'udalguri',\n",
       "       'surajpur', 'mewat', 'ferozpur', 'viluppuram', 'igi airport',\n",
       "       'north-east', 'north-west', 'south-west', 'vijayawada city',\n",
       "       'palwal', 'border district', 'mumbai commr.', 'imphal east',\n",
       "       'imphal west', 'sas ngr', 'jaipur east', 'jaipur north',\n",
       "       'jaipur rural', 'jaipur south', 'jodhpur city', 'jodhpur rural',\n",
       "       'kota city', 'kota rural', 'grp(rly)', 'stf', 'karaikal', 'khunti',\n",
       "       'ramgarh', 'longleng', 'amritsar rural', 'a and n islands',\n",
       "       'outer', 'tapi', 'bandipora', 'kishtwar', 'samba', 'shopian',\n",
       "       'cbpura', 'ramanagar', 'alirajpur', 'singrauli', 'cid', 'dcp bbsr',\n",
       "       'dcp ctc', 'ludhiana rural', 'sbs nagar', 'chennaisuburban',\n",
       "       'kanshiram nagar', 'caw', 'crime branch', 'eow', 'south-east',\n",
       "       'puducherry', 'anjaw', 'baddipolicedist', 'railways kmr',\n",
       "       'tiruppur', 'guntur urban', 'rajahmundry', 'tirupathi urban',\n",
       "       'warangal urban', 'rural', 'cid crime', 'crime kashmir', 'sopore',\n",
       "       'yadgiri', 'cp amritsar', 'cp jalandhar', 'cp ludhiana',\n",
       "       'jalandhar rural', 'g.r.p. ajmer', 'g.r.p. jodhpur', 'csm nagar',\n",
       "       'ramabai nagar', 'gariyaband', 'kutch (east(g))',\n",
       "       'kutch (west-bhuj)', 'w.rly ahmedabad', 'w.rly vadodara',\n",
       "       'railways jammu', 'railways kashmir', 'mangalore city',\n",
       "       'kollam commr.', 'kollam rural', 'thrissur commr.',\n",
       "       'thrissur rural', 'fazilka', 'pathankot', 'g.r.p.ajmer',\n",
       "       'g.r.p.jodhpur', 'jaipur west', 'bhim nagar', 'panchshil nagar',\n",
       "       'prabuddh nagar', 'baksa', 'bieo', 'hamren', 'balod',\n",
       "       'baloda bazar', 'bemetara', 'kondagaon', 'mungeli', 'sukma',\n",
       "       'ambala rural', 'ambala urban', 'railways katra', 'jodhpur east',\n",
       "       'jodhpur west', 'gomati', 'khowai', 'sipahijala', 'unakoti',\n",
       "       'bdn cp', 'bkp cp', 'jhargram', 'siliguri_pc', 'car', 'longding',\n",
       "       'i&p haryana', 'agar', 'garo hills north', 'garo hills south w.',\n",
       "       'jaintia hills east', 'jaintia hills west', 'khasi hills south w.',\n",
       "       'spl narcotic', 'traffic ps', 'discom', 'amethi', 'amroha',\n",
       "       'hapur', 'kasganj', 'sambhal', 'shamli', 'd&n haveli',\n",
       "       'metro rail', 'guntakal railway', 'vijayawada railway',\n",
       "       'kurung kumey', 'lower dibang valley', 'papum pare city',\n",
       "       'papum pare rural', 'dima hasao', 'jamalpur railway',\n",
       "       'katihar railway', 'muzaffarpur railway', 'patna railway',\n",
       "       'economic offences unit', 'anti terrorist squad', 'balodbazar',\n",
       "       'bemetra', 'g. r. p. raipur', 'mungali', 'c. i. d.',\n",
       "       'ahmedabad city', 'arvalli', 'banaskantha', 'botad',\n",
       "       'chhotaudepur', 'c. i. d. crime', 'dang', 'devbhumi dwarka',\n",
       "       'gir somnath', 'kachchh east(g)', 'kachchh west(b)', 'kheda',\n",
       "       'mahisagar', 'morbi', 'rajkot city', 'sabarkantha', 'surat city',\n",
       "       'vadodara city', 'ambala (rural)', 'ambala (urban)', 'g. r. p.',\n",
       "       'mahendergarh', 'irrigation & power', 'baddi', 'lahaul & spiti',\n",
       "       'dhanbad railway', 'jamshedpur railway', 'bengaluru city',\n",
       "       'bengaluru district', 'belagavi district', 'ballari', 'vijayapura',\n",
       "       'chikkaballapura', 'chikkamagaluru', 'dakshina kannada', 'dharwad',\n",
       "       'kalaburgi', 'hubballi dharwad city', 'mangaluru city',\n",
       "       'mysuru city', 'mysuru district', 'k.railways', 'ramanagara',\n",
       "       'tumakuru', 'uttara kannada', 'belagavi city', 'bhopal railway',\n",
       "       'datia', 'indore railway', 'jabalpur railway', 'khargone',\n",
       "       'sehore', 'umaria', 'cyber cell', 'mumbai railway',\n",
       "       'nagpur railway', 'palghar', 'pune railway',\n",
       "       'garo hills south west', 'khasi hills south west', 'spl traffic',\n",
       "       'malkangiri', 'nabarangpur', 'srp (cuttack)', 'srp (rourkela)',\n",
       "       'bathinda', 'sas nagar', 'coimbatore', 'coimbatore city',\n",
       "       'madurai', 'madurai city', 'railway chennai', 'railway trichy',\n",
       "       'salem', 'salem city', 'thirunelveli', 'thirunelveli city',\n",
       "       'thoothukudi', 'tiruppur city', 'trichy', 'trichy city',\n",
       "       'other units', 'mahaboob nagar', 'secunderabad railway',\n",
       "       'warangal rural', 'warangal city', 'kowai', 'chitrakoot',\n",
       "       'bhadohi', 'north 24 parganas', 'south 24 parganas', 'alipurduar',\n",
       "       'asansol-durgapur pc', 'barrackpur pc', 'bidhannagar pc',\n",
       "       'howrah g. r. p.', 'howrah pc', 'howrah rural',\n",
       "       'jhargram police district', 'kharagpur g. r. p.',\n",
       "       'paschim medinipur', 'purab medinipur', 'sealdah g. r. p.',\n",
       "       'siliguri g. r. p.', 'siliguri pc', 'south andaman',\n",
       "       'north & middle andaman', 'd & n haveli', 'metro', 'railway',\n",
       "       'spuwac', 'vigilance'], dtype=object)"
      ]
     },
     "execution_count": 501,
     "metadata": {},
     "output_type": "execute_result"
    }
   ],
   "source": [
    "data[\"DISTRICT\"].unique()"
   ]
  },
  {
   "cell_type": "code",
   "execution_count": 502,
   "id": "4e232532",
   "metadata": {},
   "outputs": [
    {
     "data": {
      "text/plain": [
       "Index(['STATE/UT', 'DISTRICT', 'Year', 'Rape', 'Kidnapping and Abduction',\n",
       "       'Dowry Deaths', 'Assault on women with intent to outrage her modesty',\n",
       "       'Insult to modesty of Women', 'Cruelty by Husband or his Relatives',\n",
       "       'Importation of Girls', 'Target', 'Target_Label'],\n",
       "      dtype='object')"
      ]
     },
     "execution_count": 502,
     "metadata": {},
     "output_type": "execute_result"
    }
   ],
   "source": [
    "data.columns"
   ]
  },
  {
   "cell_type": "code",
   "execution_count": 503,
   "id": "6680016f",
   "metadata": {},
   "outputs": [
    {
     "data": {
      "text/html": [
       "<div>\n",
       "<style scoped>\n",
       "    .dataframe tbody tr th:only-of-type {\n",
       "        vertical-align: middle;\n",
       "    }\n",
       "\n",
       "    .dataframe tbody tr th {\n",
       "        vertical-align: top;\n",
       "    }\n",
       "\n",
       "    .dataframe thead th {\n",
       "        text-align: right;\n",
       "    }\n",
       "</style>\n",
       "<table border=\"1\" class=\"dataframe\">\n",
       "  <thead>\n",
       "    <tr style=\"text-align: right;\">\n",
       "      <th></th>\n",
       "      <th>STATE/UT</th>\n",
       "      <th>DISTRICT</th>\n",
       "      <th>Year</th>\n",
       "      <th>Rape</th>\n",
       "      <th>Kidnapping and Abduction</th>\n",
       "      <th>Dowry Deaths</th>\n",
       "      <th>Assault on women with intent to outrage her modesty</th>\n",
       "      <th>Insult to modesty of Women</th>\n",
       "      <th>Cruelty by Husband or his Relatives</th>\n",
       "      <th>Importation of Girls</th>\n",
       "      <th>Target</th>\n",
       "      <th>Target_Label</th>\n",
       "    </tr>\n",
       "  </thead>\n",
       "  <tbody>\n",
       "    <tr>\n",
       "      <th>0</th>\n",
       "      <td>andhra pradesh</td>\n",
       "      <td>adilabad</td>\n",
       "      <td>2001</td>\n",
       "      <td>50</td>\n",
       "      <td>30</td>\n",
       "      <td>16</td>\n",
       "      <td>149</td>\n",
       "      <td>34</td>\n",
       "      <td>175</td>\n",
       "      <td>0</td>\n",
       "      <td>1397</td>\n",
       "      <td>LOW</td>\n",
       "    </tr>\n",
       "    <tr>\n",
       "      <th>1</th>\n",
       "      <td>andhra pradesh</td>\n",
       "      <td>anantapur</td>\n",
       "      <td>2001</td>\n",
       "      <td>23</td>\n",
       "      <td>30</td>\n",
       "      <td>7</td>\n",
       "      <td>118</td>\n",
       "      <td>24</td>\n",
       "      <td>154</td>\n",
       "      <td>0</td>\n",
       "      <td>1009</td>\n",
       "      <td>LOW</td>\n",
       "    </tr>\n",
       "    <tr>\n",
       "      <th>2</th>\n",
       "      <td>andhra pradesh</td>\n",
       "      <td>chittoor</td>\n",
       "      <td>2001</td>\n",
       "      <td>27</td>\n",
       "      <td>34</td>\n",
       "      <td>14</td>\n",
       "      <td>112</td>\n",
       "      <td>83</td>\n",
       "      <td>186</td>\n",
       "      <td>0</td>\n",
       "      <td>1200</td>\n",
       "      <td>LOW</td>\n",
       "    </tr>\n",
       "    <tr>\n",
       "      <th>3</th>\n",
       "      <td>andhra pradesh</td>\n",
       "      <td>cuddapah</td>\n",
       "      <td>2001</td>\n",
       "      <td>20</td>\n",
       "      <td>20</td>\n",
       "      <td>17</td>\n",
       "      <td>126</td>\n",
       "      <td>38</td>\n",
       "      <td>57</td>\n",
       "      <td>0</td>\n",
       "      <td>852</td>\n",
       "      <td>LOW</td>\n",
       "    </tr>\n",
       "    <tr>\n",
       "      <th>4</th>\n",
       "      <td>andhra pradesh</td>\n",
       "      <td>east godavari</td>\n",
       "      <td>2001</td>\n",
       "      <td>23</td>\n",
       "      <td>26</td>\n",
       "      <td>12</td>\n",
       "      <td>109</td>\n",
       "      <td>58</td>\n",
       "      <td>247</td>\n",
       "      <td>0</td>\n",
       "      <td>1216</td>\n",
       "      <td>LOW</td>\n",
       "    </tr>\n",
       "  </tbody>\n",
       "</table>\n",
       "</div>"
      ],
      "text/plain": [
       "         STATE/UT       DISTRICT  Year  Rape  Kidnapping and Abduction  \\\n",
       "0  andhra pradesh       adilabad  2001    50                        30   \n",
       "1  andhra pradesh      anantapur  2001    23                        30   \n",
       "2  andhra pradesh       chittoor  2001    27                        34   \n",
       "3  andhra pradesh       cuddapah  2001    20                        20   \n",
       "4  andhra pradesh  east godavari  2001    23                        26   \n",
       "\n",
       "   Dowry Deaths  Assault on women with intent to outrage her modesty  \\\n",
       "0            16                                                149     \n",
       "1             7                                                118     \n",
       "2            14                                                112     \n",
       "3            17                                                126     \n",
       "4            12                                                109     \n",
       "\n",
       "   Insult to modesty of Women  Cruelty by Husband or his Relatives  \\\n",
       "0                          34                                  175   \n",
       "1                          24                                  154   \n",
       "2                          83                                  186   \n",
       "3                          38                                   57   \n",
       "4                          58                                  247   \n",
       "\n",
       "   Importation of Girls  Target Target_Label  \n",
       "0                     0    1397          LOW  \n",
       "1                     0    1009          LOW  \n",
       "2                     0    1200          LOW  \n",
       "3                     0     852          LOW  \n",
       "4                     0    1216          LOW  "
      ]
     },
     "execution_count": 503,
     "metadata": {},
     "output_type": "execute_result"
    }
   ],
   "source": [
    "data.head()"
   ]
  },
  {
   "cell_type": "markdown",
   "id": "ee5ab000",
   "metadata": {},
   "source": [
    "## Data Analysis"
   ]
  },
  {
   "cell_type": "markdown",
   "id": "b7de0a67",
   "metadata": {},
   "source": [
    "### Heat map"
   ]
  },
  {
   "cell_type": "code",
   "execution_count": 504,
   "id": "70a8b191",
   "metadata": {},
   "outputs": [
    {
     "data": {
      "text/plain": [
       "<AxesSubplot:>"
      ]
     },
     "execution_count": 504,
     "metadata": {},
     "output_type": "execute_result"
    },
    {
     "data": {
      "image/png": "[encoded data removed]",
      "text/plain": [
       "<Figure size 720x432 with 2 Axes>"
      ]
     },
     "metadata": {
      "needs_background": "light"
     },
     "output_type": "display_data"
    }
   ],
   "source": [
    "fig, ax = plt.subplots(figsize=(10,6))\n",
    "sns.heatmap(data.corr(), center = 0, cmap = \"BrBG\", annot = True)"
   ]
  },
  {
   "cell_type": "markdown",
   "id": "3a5ac372",
   "metadata": {},
   "source": [
    "### Year Wise Analysis of Crime"
   ]
  },
  {
   "cell_type": "raw",
   "id": "5fbb1d1d",
   "metadata": {},
   "source": [
    "The Below graph depicts the Year wise analysis of crime from 2001 to 2014. It seems like the crime rate increases rapidly as the year goes On."
   ]
  },
  {
   "cell_type": "code",
   "execution_count": 505,
   "id": "12eeeed4",
   "metadata": {},
   "outputs": [
    {
     "data": {
      "text/plain": [
       "<AxesSubplot:xlabel='Year'>"
      ]
     },
     "execution_count": 505,
     "metadata": {},
     "output_type": "execute_result"
    },
    {
     "data": {
      "image/png": "[encoded data removed]",
      "text/plain": [
       "<Figure size 864x576 with 1 Axes>"
      ]
     },
     "metadata": {
      "needs_background": "light"
     },
     "output_type": "display_data"
    }
   ],
   "source": [
    "plt.figure(figsize=(12,8))\n",
    "data.groupby(\"Year\")[\"Target\"].sum().plot.bar()"
   ]
  },
  {
   "cell_type": "markdown",
   "id": "68b92cc4",
   "metadata": {},
   "source": [
    "#### Percentage Distribution of each Crime based on Year"
   ]
  },
  {
   "cell_type": "code",
   "execution_count": 506,
   "id": "25ec1ff7",
   "metadata": {},
   "outputs": [
    {
     "data": {
      "image/png": "[encoded data removed]",
      "text/plain": [
       "<Figure size 432x288 with 1 Axes>"
      ]
     },
     "metadata": {},
     "output_type": "display_data"
    }
   ],
   "source": [
    "data.groupby(\"Year\")[\"Rape\"].sum().plot.pie(autopct='%1.0f%%')\n",
    "plt.tight_layout()"
   ]
  },
  {
   "cell_type": "code",
   "execution_count": 507,
   "id": "0151ea9e",
   "metadata": {},
   "outputs": [
    {
     "data": {
      "image/png": "[encoded data removed]",
      "text/plain": [
       "<Figure size 432x288 with 1 Axes>"
      ]
     },
     "metadata": {},
     "output_type": "display_data"
    }
   ],
   "source": [
    "data.groupby(\"Year\")[\"Kidnapping and Abduction\"].sum().plot.pie(autopct='%1.0f%%')\n",
    "plt.tight_layout()"
   ]
  },
  {
   "cell_type": "code",
   "execution_count": 508,
   "id": "5614b2ab",
   "metadata": {},
   "outputs": [
    {
     "data": {
      "image/png": "[encoded data removed]",
      "text/plain": [
       "<Figure size 432x288 with 1 Axes>"
      ]
     },
     "metadata": {},
     "output_type": "display_data"
    }
   ],
   "source": [
    "data.groupby(\"Year\")[\"Dowry Deaths\"].sum().plot.pie(autopct='%1.0f%%')\n",
    "plt.tight_layout()"
   ]
  },
  {
   "cell_type": "code",
   "execution_count": 509,
   "id": "77bc610f",
   "metadata": {},
   "outputs": [
    {
     "data": {
      "image/png": "[encoded data removed]",
      "text/plain": [
       "<Figure size 432x288 with 1 Axes>"
      ]
     },
     "metadata": {},
     "output_type": "display_data"
    }
   ],
   "source": [
    "data.groupby(\"Year\")[\"Assault on women with intent to outrage her modesty\"].sum().plot.pie(autopct='%1.0f%%')\n",
    "plt.tight_layout()"
   ]
  },
  {
   "cell_type": "code",
   "execution_count": 510,
   "id": "518860ea",
   "metadata": {},
   "outputs": [
    {
     "data": {
      "image/png": "[encoded data removed]",
      "text/plain": [
       "<Figure size 432x288 with 1 Axes>"
      ]
     },
     "metadata": {},
     "output_type": "display_data"
    }
   ],
   "source": [
    "data.groupby(\"Year\")[\"Insult to modesty of Women\"].sum().plot.pie(autopct='%1.0f%%')\n",
    "plt.tight_layout()"
   ]
  },
  {
   "cell_type": "code",
   "execution_count": 511,
   "id": "c1c24ead",
   "metadata": {},
   "outputs": [
    {
     "data": {
      "image/png": "[encoded data removed]",
      "text/plain": [
       "<Figure size 432x288 with 1 Axes>"
      ]
     },
     "metadata": {},
     "output_type": "display_data"
    }
   ],
   "source": [
    "data.groupby(\"Year\")[\"Cruelty by Husband or his Relatives\"].sum().plot.pie(autopct='%1.0f%%')\n",
    "plt.tight_layout()"
   ]
  },
  {
   "cell_type": "code",
   "execution_count": 512,
   "id": "cdcea72a",
   "metadata": {},
   "outputs": [
    {
     "data": {
      "image/png": "[encoded data removed]",
      "text/plain": [
       "<Figure size 432x288 with 1 Axes>"
      ]
     },
     "metadata": {},
     "output_type": "display_data"
    }
   ],
   "source": [
    "data.groupby(\"Year\")[\"Importation of Girls\"].sum().plot.pie(autopct='%1.0f%%')\n",
    "plt.tight_layout()"
   ]
  },
  {
   "cell_type": "markdown",
   "id": "77155ac2",
   "metadata": {},
   "source": [
    "#### Summary"
   ]
  },
  {
   "cell_type": "raw",
   "id": "5deb8bf1",
   "metadata": {},
   "source": [
    "The Below graph represents the year by year trend on each category of Crime."
   ]
  },
  {
   "cell_type": "code",
   "execution_count": 513,
   "id": "8caf75a9",
   "metadata": {},
   "outputs": [
    {
     "data": {
      "text/plain": [
       "<AxesSubplot:title={'center':'Total No. of Crimes'}, xlabel='Year'>"
      ]
     },
     "execution_count": 513,
     "metadata": {},
     "output_type": "execute_result"
    },
    {
     "data": {
      "image/png": "[encoded data removed]",
      "text/plain": [
       "<Figure size 1440x864 with 8 Axes>"
      ]
     },
     "metadata": {
      "needs_background": "light"
     },
     "output_type": "display_data"
    }
   ],
   "source": [
    "plt.figure(figsize=(20,12))\n",
    "plt.subplot(2,4,1)\n",
    "data.groupby(\"Year\")[\"Rape\"].sum().plot(title=\"Rape\")\n",
    "plt.subplot(2,4,2)\n",
    "data.groupby(\"Year\")[\"Kidnapping and Abduction\"].sum().plot(title=\"Kidnapping and Abduction\")\n",
    "plt.subplot(2,4,3)\n",
    "data.groupby(\"Year\")[\"Dowry Deaths\"].sum().plot(title=\"Dowry Deaths\")\n",
    "plt.subplot(2,4,6)\n",
    "data.groupby(\"Year\")[\"Assault on women with intent to outrage her modesty\"].sum().plot(title=\"Assault on women with intent to outrage her modesty\")\n",
    "plt.subplot(2,4,5)\n",
    "data.groupby(\"Year\")[\"Insult to modesty of Women\"].sum().plot(title=\"Insult to modesty of Women\")\n",
    "plt.subplot(2,4,4)\n",
    "data.groupby(\"Year\")[\"Cruelty by Husband or his Relatives\"].sum().plot(title=\"Cruelty by Husband or his Relatives\")\n",
    "plt.subplot(2,4,7)\n",
    "data.groupby(\"Year\")[\"Importation of Girls\"].sum().plot(title=\"Importation of Girls\")\n",
    "plt.subplot(2,4,8)\n",
    "data.groupby(\"Year\")[\"Target\"].sum().plot(title=\"Total No. of Crimes\")"
   ]
  },
  {
   "cell_type": "code",
   "execution_count": 514,
   "id": "080c4c30",
   "metadata": {},
   "outputs": [
    {
     "data": {
      "image/png": "[encoded data removed]",
      "text/plain": [
       "<Figure size 1080x504 with 1 Axes>"
      ]
     },
     "metadata": {
      "needs_background": "light"
     },
     "output_type": "display_data"
    }
   ],
   "source": [
    "plt.figure(figsize=(15,7))\n",
    "data.groupby(\"Year\")[\"Rape\"].sum().plot()\n",
    "data.groupby(\"Year\")[\"Kidnapping and Abduction\"].sum().plot()\n",
    "data.groupby(\"Year\")[\"Dowry Deaths\"].sum().plot(label=\"Dowry Deaths\")\n",
    "data.groupby(\"Year\")[\"Assault on women with intent to outrage her modesty\"].sum().plot()\n",
    "data.groupby(\"Year\")[\"Insult to modesty of Women\"].sum().plot()\n",
    "data.groupby(\"Year\")[\"Cruelty by Husband or his Relatives\"].sum().plot()\n",
    "data.groupby(\"Year\")[\"Importation of Girls\"].sum().plot()\n",
    "plt.legend()\n",
    "plt.tight_layout()\n"
   ]
  },
  {
   "cell_type": "markdown",
   "id": "e2fddfc2",
   "metadata": {},
   "source": [
    "#### Yearwise Crime Rate on Different Categories"
   ]
  },
  {
   "cell_type": "code",
   "execution_count": 515,
   "id": "aa182d00",
   "metadata": {},
   "outputs": [
    {
     "data": {
      "text/html": [
       "<div>\n",
       "<style scoped>\n",
       "    .dataframe tbody tr th:only-of-type {\n",
       "        vertical-align: middle;\n",
       "    }\n",
       "\n",
       "    .dataframe tbody tr th {\n",
       "        vertical-align: top;\n",
       "    }\n",
       "\n",
       "    .dataframe thead th {\n",
       "        text-align: right;\n",
       "    }\n",
       "</style>\n",
       "<table border=\"1\" class=\"dataframe\">\n",
       "  <thead>\n",
       "    <tr style=\"text-align: right;\">\n",
       "      <th></th>\n",
       "      <th>Rape</th>\n",
       "      <th>Kidnapping and Abduction</th>\n",
       "      <th>Dowry Deaths</th>\n",
       "      <th>Assault on women with intent to outrage her modesty</th>\n",
       "      <th>Insult to modesty of Women</th>\n",
       "      <th>Cruelty by Husband or his Relatives</th>\n",
       "      <th>Importation of Girls</th>\n",
       "    </tr>\n",
       "    <tr>\n",
       "      <th>Year</th>\n",
       "      <th></th>\n",
       "      <th></th>\n",
       "      <th></th>\n",
       "      <th></th>\n",
       "      <th></th>\n",
       "      <th></th>\n",
       "      <th></th>\n",
       "    </tr>\n",
       "  </thead>\n",
       "  <tbody>\n",
       "    <tr>\n",
       "      <th>2001</th>\n",
       "      <td>16075</td>\n",
       "      <td>14645</td>\n",
       "      <td>6851</td>\n",
       "      <td>34124</td>\n",
       "      <td>9746</td>\n",
       "      <td>49170</td>\n",
       "      <td>114</td>\n",
       "    </tr>\n",
       "    <tr>\n",
       "      <th>2002</th>\n",
       "      <td>16373</td>\n",
       "      <td>14506</td>\n",
       "      <td>6822</td>\n",
       "      <td>33943</td>\n",
       "      <td>10155</td>\n",
       "      <td>49237</td>\n",
       "      <td>76</td>\n",
       "    </tr>\n",
       "    <tr>\n",
       "      <th>2003</th>\n",
       "      <td>15847</td>\n",
       "      <td>13296</td>\n",
       "      <td>6208</td>\n",
       "      <td>32939</td>\n",
       "      <td>12325</td>\n",
       "      <td>50703</td>\n",
       "      <td>46</td>\n",
       "    </tr>\n",
       "    <tr>\n",
       "      <th>2004</th>\n",
       "      <td>18233</td>\n",
       "      <td>15578</td>\n",
       "      <td>7026</td>\n",
       "      <td>34567</td>\n",
       "      <td>10001</td>\n",
       "      <td>58121</td>\n",
       "      <td>89</td>\n",
       "    </tr>\n",
       "    <tr>\n",
       "      <th>2005</th>\n",
       "      <td>18359</td>\n",
       "      <td>15750</td>\n",
       "      <td>6787</td>\n",
       "      <td>34175</td>\n",
       "      <td>9984</td>\n",
       "      <td>58319</td>\n",
       "      <td>149</td>\n",
       "    </tr>\n",
       "    <tr>\n",
       "      <th>2006</th>\n",
       "      <td>19348</td>\n",
       "      <td>17414</td>\n",
       "      <td>7618</td>\n",
       "      <td>36617</td>\n",
       "      <td>9966</td>\n",
       "      <td>63128</td>\n",
       "      <td>67</td>\n",
       "    </tr>\n",
       "    <tr>\n",
       "      <th>2007</th>\n",
       "      <td>20737</td>\n",
       "      <td>20416</td>\n",
       "      <td>8093</td>\n",
       "      <td>38734</td>\n",
       "      <td>10950</td>\n",
       "      <td>75930</td>\n",
       "      <td>61</td>\n",
       "    </tr>\n",
       "    <tr>\n",
       "      <th>2008</th>\n",
       "      <td>21467</td>\n",
       "      <td>22939</td>\n",
       "      <td>8172</td>\n",
       "      <td>40413</td>\n",
       "      <td>12214</td>\n",
       "      <td>81344</td>\n",
       "      <td>67</td>\n",
       "    </tr>\n",
       "    <tr>\n",
       "      <th>2009</th>\n",
       "      <td>21397</td>\n",
       "      <td>25741</td>\n",
       "      <td>8383</td>\n",
       "      <td>38711</td>\n",
       "      <td>11009</td>\n",
       "      <td>89546</td>\n",
       "      <td>48</td>\n",
       "    </tr>\n",
       "    <tr>\n",
       "      <th>2010</th>\n",
       "      <td>22172</td>\n",
       "      <td>29795</td>\n",
       "      <td>8391</td>\n",
       "      <td>40613</td>\n",
       "      <td>9961</td>\n",
       "      <td>94041</td>\n",
       "      <td>36</td>\n",
       "    </tr>\n",
       "    <tr>\n",
       "      <th>2011</th>\n",
       "      <td>24206</td>\n",
       "      <td>35565</td>\n",
       "      <td>8618</td>\n",
       "      <td>42968</td>\n",
       "      <td>8570</td>\n",
       "      <td>99135</td>\n",
       "      <td>80</td>\n",
       "    </tr>\n",
       "    <tr>\n",
       "      <th>2012</th>\n",
       "      <td>24923</td>\n",
       "      <td>38262</td>\n",
       "      <td>8233</td>\n",
       "      <td>45351</td>\n",
       "      <td>9173</td>\n",
       "      <td>106527</td>\n",
       "      <td>59</td>\n",
       "    </tr>\n",
       "    <tr>\n",
       "      <th>2013</th>\n",
       "      <td>33707</td>\n",
       "      <td>51881</td>\n",
       "      <td>8083</td>\n",
       "      <td>70739</td>\n",
       "      <td>12589</td>\n",
       "      <td>118866</td>\n",
       "      <td>31</td>\n",
       "    </tr>\n",
       "    <tr>\n",
       "      <th>2014</th>\n",
       "      <td>36735</td>\n",
       "      <td>57311</td>\n",
       "      <td>8455</td>\n",
       "      <td>82235</td>\n",
       "      <td>9735</td>\n",
       "      <td>122877</td>\n",
       "      <td>13</td>\n",
       "    </tr>\n",
       "  </tbody>\n",
       "</table>\n",
       "</div>"
      ],
      "text/plain": [
       "       Rape  Kidnapping and Abduction  Dowry Deaths  \\\n",
       "Year                                                  \n",
       "2001  16075                     14645          6851   \n",
       "2002  16373                     14506          6822   \n",
       "2003  15847                     13296          6208   \n",
       "2004  18233                     15578          7026   \n",
       "2005  18359                     15750          6787   \n",
       "2006  19348                     17414          7618   \n",
       "2007  20737                     20416          8093   \n",
       "2008  21467                     22939          8172   \n",
       "2009  21397                     25741          8383   \n",
       "2010  22172                     29795          8391   \n",
       "2011  24206                     35565          8618   \n",
       "2012  24923                     38262          8233   \n",
       "2013  33707                     51881          8083   \n",
       "2014  36735                     57311          8455   \n",
       "\n",
       "      Assault on women with intent to outrage her modesty  \\\n",
       "Year                                                        \n",
       "2001                                              34124     \n",
       "2002                                              33943     \n",
       "2003                                              32939     \n",
       "2004                                              34567     \n",
       "2005                                              34175     \n",
       "2006                                              36617     \n",
       "2007                                              38734     \n",
       "2008                                              40413     \n",
       "2009                                              38711     \n",
       "2010                                              40613     \n",
       "2011                                              42968     \n",
       "2012                                              45351     \n",
       "2013                                              70739     \n",
       "2014                                              82235     \n",
       "\n",
       "      Insult to modesty of Women  Cruelty by Husband or his Relatives  \\\n",
       "Year                                                                    \n",
       "2001                        9746                                49170   \n",
       "2002                       10155                                49237   \n",
       "2003                       12325                                50703   \n",
       "2004                       10001                                58121   \n",
       "2005                        9984                                58319   \n",
       "2006                        9966                                63128   \n",
       "2007                       10950                                75930   \n",
       "2008                       12214                                81344   \n",
       "2009                       11009                                89546   \n",
       "2010                        9961                                94041   \n",
       "2011                        8570                                99135   \n",
       "2012                        9173                               106527   \n",
       "2013                       12589                               118866   \n",
       "2014                        9735                               122877   \n",
       "\n",
       "      Importation of Girls  \n",
       "Year                        \n",
       "2001                   114  \n",
       "2002                    76  \n",
       "2003                    46  \n",
       "2004                    89  \n",
       "2005                   149  \n",
       "2006                    67  \n",
       "2007                    61  \n",
       "2008                    67  \n",
       "2009                    48  \n",
       "2010                    36  \n",
       "2011                    80  \n",
       "2012                    59  \n",
       "2013                    31  \n",
       "2014                    13  "
      ]
     },
     "execution_count": 515,
     "metadata": {},
     "output_type": "execute_result"
    }
   ],
   "source": [
    "crimes=['Rape','Kidnapping and Abduction','Dowry Deaths',\n",
    "        'Assault on women with intent to outrage her modesty',\n",
    "        'Insult to modesty of Women','Cruelty by Husband or his Relatives',\n",
    "        'Importation of Girls']\n",
    "\n",
    "data1=pd.DataFrame()\n",
    "for i in crimes:\n",
    "    data_crimes=data.groupby(['Year'])[i].sum()\n",
    "    data1[i]=data_crimes\n",
    "data1"
   ]
  },
  {
   "cell_type": "markdown",
   "id": "b7661d3c",
   "metadata": {},
   "source": [
    "#### Percentage Contribution of Each Category of Crime"
   ]
  },
  {
   "cell_type": "code",
   "execution_count": 516,
   "id": "71ab19c5",
   "metadata": {},
   "outputs": [
    {
     "data": {
      "image/png": "[encoded data removed]",
      "text/plain": [
       "<Figure size 720x1080 with 1 Axes>"
      ]
     },
     "metadata": {},
     "output_type": "display_data"
    }
   ],
   "source": [
    "a=[]\n",
    "for i in crimes:\n",
    "  a.append(data1[i].sum())\n",
    "a.sort()\n",
    "plt.figure(figsize=(10,15))\n",
    "plt.pie(a,labels=crimes,autopct='%1.2f%%',colors=['black', 'gold', 'lightskyblue', 'lightcoral','lightpink','lightcyan','lightgreen'])\n",
    "plt.tight_layout()"
   ]
  },
  {
   "cell_type": "markdown",
   "id": "f528b4cf",
   "metadata": {},
   "source": [
    "### State/UT wise Analysis of Crime"
   ]
  },
  {
   "cell_type": "code",
   "execution_count": 517,
   "id": "ef1014ee",
   "metadata": {},
   "outputs": [
    {
     "data": {
      "text/plain": [
       "<AxesSubplot:xlabel='STATE/UT'>"
      ]
     },
     "execution_count": 517,
     "metadata": {},
     "output_type": "execute_result"
    },
    {
     "data": {
      "image/png": "[encoded data removed]",
      "text/plain": [
       "<Figure size 1224x504 with 1 Axes>"
      ]
     },
     "metadata": {
      "needs_background": "light"
     },
     "output_type": "display_data"
    }
   ],
   "source": [
    "plt.figure(figsize=(17,7))\n",
    "data.groupby(\"STATE/UT\")[\"Target\"].sum().sort_values(ascending=False).plot.bar()"
   ]
  },
  {
   "cell_type": "code",
   "execution_count": 518,
   "id": "a991fc4b",
   "metadata": {},
   "outputs": [
    {
     "data": {
      "text/html": [
       "<div>\n",
       "<style scoped>\n",
       "    .dataframe tbody tr th:only-of-type {\n",
       "        vertical-align: middle;\n",
       "    }\n",
       "\n",
       "    .dataframe tbody tr th {\n",
       "        vertical-align: top;\n",
       "    }\n",
       "\n",
       "    .dataframe thead th {\n",
       "        text-align: right;\n",
       "    }\n",
       "</style>\n",
       "<table border=\"1\" class=\"dataframe\">\n",
       "  <thead>\n",
       "    <tr style=\"text-align: right;\">\n",
       "      <th></th>\n",
       "      <th>Rape</th>\n",
       "      <th>Kidnapping and Abduction</th>\n",
       "      <th>Dowry Deaths</th>\n",
       "      <th>Assault on women with intent to outrage her modesty</th>\n",
       "      <th>Insult to modesty of Women</th>\n",
       "      <th>Cruelty by Husband or his Relatives</th>\n",
       "      <th>Importation of Girls</th>\n",
       "      <th>Target</th>\n",
       "    </tr>\n",
       "    <tr>\n",
       "      <th>STATE/UT</th>\n",
       "      <th></th>\n",
       "      <th></th>\n",
       "      <th></th>\n",
       "      <th></th>\n",
       "      <th></th>\n",
       "      <th></th>\n",
       "      <th></th>\n",
       "      <th></th>\n",
       "    </tr>\n",
       "  </thead>\n",
       "  <tbody>\n",
       "    <tr>\n",
       "      <th>uttar pradesh</th>\n",
       "      <td>25575</td>\n",
       "      <td>67953</td>\n",
       "      <td>28628</td>\n",
       "      <td>45606</td>\n",
       "      <td>26565</td>\n",
       "      <td>96869</td>\n",
       "      <td>3</td>\n",
       "      <td>291199</td>\n",
       "    </tr>\n",
       "    <tr>\n",
       "      <th>andhra pradesh</th>\n",
       "      <td>16075</td>\n",
       "      <td>17252</td>\n",
       "      <td>6922</td>\n",
       "      <td>63476</td>\n",
       "      <td>43482</td>\n",
       "      <td>140453</td>\n",
       "      <td>17</td>\n",
       "      <td>287677</td>\n",
       "    </tr>\n",
       "    <tr>\n",
       "      <th>west bengal</th>\n",
       "      <td>23938</td>\n",
       "      <td>30579</td>\n",
       "      <td>6154</td>\n",
       "      <td>33454</td>\n",
       "      <td>2674</td>\n",
       "      <td>172062</td>\n",
       "      <td>127</td>\n",
       "      <td>268988</td>\n",
       "    </tr>\n",
       "    <tr>\n",
       "      <th>rajasthan</th>\n",
       "      <td>22842</td>\n",
       "      <td>33139</td>\n",
       "      <td>5927</td>\n",
       "      <td>41681</td>\n",
       "      <td>397</td>\n",
       "      <td>131100</td>\n",
       "      <td>7</td>\n",
       "      <td>235093</td>\n",
       "    </tr>\n",
       "    <tr>\n",
       "      <th>madhya pradesh</th>\n",
       "      <td>45498</td>\n",
       "      <td>17804</td>\n",
       "      <td>10545</td>\n",
       "      <td>97739</td>\n",
       "      <td>10482</td>\n",
       "      <td>51408</td>\n",
       "      <td>67</td>\n",
       "      <td>233543</td>\n",
       "    </tr>\n",
       "    <tr>\n",
       "      <th>maharashtra</th>\n",
       "      <td>24487</td>\n",
       "      <td>15184</td>\n",
       "      <td>4848</td>\n",
       "      <td>57352</td>\n",
       "      <td>16317</td>\n",
       "      <td>96601</td>\n",
       "      <td>3</td>\n",
       "      <td>214792</td>\n",
       "    </tr>\n",
       "    <tr>\n",
       "      <th>assam</th>\n",
       "      <td>20095</td>\n",
       "      <td>31037</td>\n",
       "      <td>1634</td>\n",
       "      <td>19128</td>\n",
       "      <td>127</td>\n",
       "      <td>57650</td>\n",
       "      <td>11</td>\n",
       "      <td>129682</td>\n",
       "    </tr>\n",
       "    <tr>\n",
       "      <th>kerala</th>\n",
       "      <td>10015</td>\n",
       "      <td>2226</td>\n",
       "      <td>350</td>\n",
       "      <td>40219</td>\n",
       "      <td>3965</td>\n",
       "      <td>55813</td>\n",
       "      <td>0</td>\n",
       "      <td>112588</td>\n",
       "    </tr>\n",
       "    <tr>\n",
       "      <th>gujarat</th>\n",
       "      <td>5822</td>\n",
       "      <td>17335</td>\n",
       "      <td>554</td>\n",
       "      <td>11593</td>\n",
       "      <td>1615</td>\n",
       "      <td>73234</td>\n",
       "      <td>0</td>\n",
       "      <td>110153</td>\n",
       "    </tr>\n",
       "    <tr>\n",
       "      <th>bihar</th>\n",
       "      <td>15379</td>\n",
       "      <td>28543</td>\n",
       "      <td>16103</td>\n",
       "      <td>8479</td>\n",
       "      <td>347</td>\n",
       "      <td>34885</td>\n",
       "      <td>452</td>\n",
       "      <td>104188</td>\n",
       "    </tr>\n",
       "    <tr>\n",
       "      <th>odisha</th>\n",
       "      <td>15240</td>\n",
       "      <td>12794</td>\n",
       "      <td>5391</td>\n",
       "      <td>40107</td>\n",
       "      <td>3744</td>\n",
       "      <td>24603</td>\n",
       "      <td>18</td>\n",
       "      <td>101897</td>\n",
       "    </tr>\n",
       "    <tr>\n",
       "      <th>karnataka</th>\n",
       "      <td>7528</td>\n",
       "      <td>8131</td>\n",
       "      <td>3508</td>\n",
       "      <td>32875</td>\n",
       "      <td>1138</td>\n",
       "      <td>36353</td>\n",
       "      <td>47</td>\n",
       "      <td>89580</td>\n",
       "    </tr>\n",
       "    <tr>\n",
       "      <th>tamil nadu</th>\n",
       "      <td>8330</td>\n",
       "      <td>15454</td>\n",
       "      <td>2530</td>\n",
       "      <td>21702</td>\n",
       "      <td>10585</td>\n",
       "      <td>22762</td>\n",
       "      <td>15</td>\n",
       "      <td>81378</td>\n",
       "    </tr>\n",
       "    <tr>\n",
       "      <th>delhi</th>\n",
       "      <td>10156</td>\n",
       "      <td>23293</td>\n",
       "      <td>1879</td>\n",
       "      <td>15371</td>\n",
       "      <td>3964</td>\n",
       "      <td>21417</td>\n",
       "      <td>1</td>\n",
       "      <td>76081</td>\n",
       "    </tr>\n",
       "    <tr>\n",
       "      <th>haryana</th>\n",
       "      <td>8555</td>\n",
       "      <td>10008</td>\n",
       "      <td>3686</td>\n",
       "      <td>8571</td>\n",
       "      <td>8933</td>\n",
       "      <td>34207</td>\n",
       "      <td>2</td>\n",
       "      <td>73962</td>\n",
       "    </tr>\n",
       "    <tr>\n",
       "      <th>chhattisgarh</th>\n",
       "      <td>14654</td>\n",
       "      <td>5904</td>\n",
       "      <td>1379</td>\n",
       "      <td>23548</td>\n",
       "      <td>1984</td>\n",
       "      <td>11718</td>\n",
       "      <td>6</td>\n",
       "      <td>59193</td>\n",
       "    </tr>\n",
       "    <tr>\n",
       "      <th>jharkhand</th>\n",
       "      <td>11413</td>\n",
       "      <td>7093</td>\n",
       "      <td>3948</td>\n",
       "      <td>4949</td>\n",
       "      <td>283</td>\n",
       "      <td>11955</td>\n",
       "      <td>149</td>\n",
       "      <td>39790</td>\n",
       "    </tr>\n",
       "    <tr>\n",
       "      <th>punjab</th>\n",
       "      <td>7328</td>\n",
       "      <td>7548</td>\n",
       "      <td>1762</td>\n",
       "      <td>6205</td>\n",
       "      <td>864</td>\n",
       "      <td>15420</td>\n",
       "      <td>2</td>\n",
       "      <td>39129</td>\n",
       "    </tr>\n",
       "    <tr>\n",
       "      <th>jammu &amp; kashmir</th>\n",
       "      <td>3519</td>\n",
       "      <td>10582</td>\n",
       "      <td>147</td>\n",
       "      <td>14319</td>\n",
       "      <td>4584</td>\n",
       "      <td>2695</td>\n",
       "      <td>0</td>\n",
       "      <td>35846</td>\n",
       "    </tr>\n",
       "    <tr>\n",
       "      <th>tripura</th>\n",
       "      <td>2530</td>\n",
       "      <td>1101</td>\n",
       "      <td>376</td>\n",
       "      <td>3672</td>\n",
       "      <td>57</td>\n",
       "      <td>8043</td>\n",
       "      <td>0</td>\n",
       "      <td>15779</td>\n",
       "    </tr>\n",
       "    <tr>\n",
       "      <th>uttarakhand</th>\n",
       "      <td>1876</td>\n",
       "      <td>3242</td>\n",
       "      <td>987</td>\n",
       "      <td>2183</td>\n",
       "      <td>1595</td>\n",
       "      <td>4878</td>\n",
       "      <td>1</td>\n",
       "      <td>14762</td>\n",
       "    </tr>\n",
       "    <tr>\n",
       "      <th>himachal pradesh</th>\n",
       "      <td>2337</td>\n",
       "      <td>2058</td>\n",
       "      <td>56</td>\n",
       "      <td>4628</td>\n",
       "      <td>610</td>\n",
       "      <td>3898</td>\n",
       "      <td>0</td>\n",
       "      <td>13587</td>\n",
       "    </tr>\n",
       "    <tr>\n",
       "      <th>telangana</th>\n",
       "      <td>979</td>\n",
       "      <td>711</td>\n",
       "      <td>289</td>\n",
       "      <td>3188</td>\n",
       "      <td>1142</td>\n",
       "      <td>6369</td>\n",
       "      <td>0</td>\n",
       "      <td>12678</td>\n",
       "    </tr>\n",
       "    <tr>\n",
       "      <th>chandigarh</th>\n",
       "      <td>385</td>\n",
       "      <td>841</td>\n",
       "      <td>45</td>\n",
       "      <td>544</td>\n",
       "      <td>171</td>\n",
       "      <td>1040</td>\n",
       "      <td>0</td>\n",
       "      <td>3026</td>\n",
       "    </tr>\n",
       "    <tr>\n",
       "      <th>manipur</th>\n",
       "      <td>534</td>\n",
       "      <td>1303</td>\n",
       "      <td>3</td>\n",
       "      <td>661</td>\n",
       "      <td>3</td>\n",
       "      <td>289</td>\n",
       "      <td>0</td>\n",
       "      <td>2793</td>\n",
       "    </tr>\n",
       "    <tr>\n",
       "      <th>meghalaya</th>\n",
       "      <td>1321</td>\n",
       "      <td>335</td>\n",
       "      <td>18</td>\n",
       "      <td>735</td>\n",
       "      <td>62</td>\n",
       "      <td>230</td>\n",
       "      <td>4</td>\n",
       "      <td>2705</td>\n",
       "    </tr>\n",
       "    <tr>\n",
       "      <th>arunachal pradesh</th>\n",
       "      <td>658</td>\n",
       "      <td>735</td>\n",
       "      <td>3</td>\n",
       "      <td>998</td>\n",
       "      <td>24</td>\n",
       "      <td>238</td>\n",
       "      <td>0</td>\n",
       "      <td>2656</td>\n",
       "    </tr>\n",
       "    <tr>\n",
       "      <th>mizoram</th>\n",
       "      <td>1035</td>\n",
       "      <td>15</td>\n",
       "      <td>4</td>\n",
       "      <td>994</td>\n",
       "      <td>35</td>\n",
       "      <td>67</td>\n",
       "      <td>3</td>\n",
       "      <td>2153</td>\n",
       "    </tr>\n",
       "    <tr>\n",
       "      <th>goa</th>\n",
       "      <td>531</td>\n",
       "      <td>320</td>\n",
       "      <td>19</td>\n",
       "      <td>692</td>\n",
       "      <td>234</td>\n",
       "      <td>266</td>\n",
       "      <td>0</td>\n",
       "      <td>2062</td>\n",
       "    </tr>\n",
       "    <tr>\n",
       "      <th>puducherry</th>\n",
       "      <td>104</td>\n",
       "      <td>153</td>\n",
       "      <td>28</td>\n",
       "      <td>657</td>\n",
       "      <td>300</td>\n",
       "      <td>117</td>\n",
       "      <td>0</td>\n",
       "      <td>1359</td>\n",
       "    </tr>\n",
       "    <tr>\n",
       "      <th>a &amp; n islands</th>\n",
       "      <td>168</td>\n",
       "      <td>106</td>\n",
       "      <td>10</td>\n",
       "      <td>300</td>\n",
       "      <td>56</td>\n",
       "      <td>144</td>\n",
       "      <td>0</td>\n",
       "      <td>784</td>\n",
       "    </tr>\n",
       "    <tr>\n",
       "      <th>sikkim</th>\n",
       "      <td>285</td>\n",
       "      <td>90</td>\n",
       "      <td>2</td>\n",
       "      <td>293</td>\n",
       "      <td>17</td>\n",
       "      <td>54</td>\n",
       "      <td>0</td>\n",
       "      <td>741</td>\n",
       "    </tr>\n",
       "    <tr>\n",
       "      <th>nagaland</th>\n",
       "      <td>281</td>\n",
       "      <td>95</td>\n",
       "      <td>1</td>\n",
       "      <td>130</td>\n",
       "      <td>12</td>\n",
       "      <td>16</td>\n",
       "      <td>1</td>\n",
       "      <td>536</td>\n",
       "    </tr>\n",
       "    <tr>\n",
       "      <th>d &amp; n haveli</th>\n",
       "      <td>66</td>\n",
       "      <td>112</td>\n",
       "      <td>1</td>\n",
       "      <td>53</td>\n",
       "      <td>6</td>\n",
       "      <td>45</td>\n",
       "      <td>0</td>\n",
       "      <td>283</td>\n",
       "    </tr>\n",
       "    <tr>\n",
       "      <th>daman &amp; diu</th>\n",
       "      <td>30</td>\n",
       "      <td>22</td>\n",
       "      <td>3</td>\n",
       "      <td>20</td>\n",
       "      <td>2</td>\n",
       "      <td>38</td>\n",
       "      <td>0</td>\n",
       "      <td>115</td>\n",
       "    </tr>\n",
       "    <tr>\n",
       "      <th>lakshadweep</th>\n",
       "      <td>10</td>\n",
       "      <td>1</td>\n",
       "      <td>0</td>\n",
       "      <td>7</td>\n",
       "      <td>2</td>\n",
       "      <td>7</td>\n",
       "      <td>0</td>\n",
       "      <td>27</td>\n",
       "    </tr>\n",
       "  </tbody>\n",
       "</table>\n",
       "</div>"
      ],
      "text/plain": [
       "                    Rape  Kidnapping and Abduction  Dowry Deaths  \\\n",
       "STATE/UT                                                           \n",
       "uttar pradesh      25575                     67953         28628   \n",
       "andhra pradesh     16075                     17252          6922   \n",
       "west bengal        23938                     30579          6154   \n",
       "rajasthan          22842                     33139          5927   \n",
       "madhya pradesh     45498                     17804         10545   \n",
       "maharashtra        24487                     15184          4848   \n",
       "assam              20095                     31037          1634   \n",
       "kerala             10015                      2226           350   \n",
       "gujarat             5822                     17335           554   \n",
       "bihar              15379                     28543         16103   \n",
       "odisha             15240                     12794          5391   \n",
       "karnataka           7528                      8131          3508   \n",
       "tamil nadu          8330                     15454          2530   \n",
       "delhi              10156                     23293          1879   \n",
       "haryana             8555                     10008          3686   \n",
       "chhattisgarh       14654                      5904          1379   \n",
       "jharkhand          11413                      7093          3948   \n",
       "punjab              7328                      7548          1762   \n",
       "jammu & kashmir     3519                     10582           147   \n",
       "tripura             2530                      1101           376   \n",
       "uttarakhand         1876                      3242           987   \n",
       "himachal pradesh    2337                      2058            56   \n",
       "telangana            979                       711           289   \n",
       "chandigarh           385                       841            45   \n",
       "manipur              534                      1303             3   \n",
       "meghalaya           1321                       335            18   \n",
       "arunachal pradesh    658                       735             3   \n",
       "mizoram             1035                        15             4   \n",
       "goa                  531                       320            19   \n",
       "puducherry           104                       153            28   \n",
       "a & n islands        168                       106            10   \n",
       "sikkim               285                        90             2   \n",
       "nagaland             281                        95             1   \n",
       "d & n haveli          66                       112             1   \n",
       "daman & diu           30                        22             3   \n",
       "lakshadweep           10                         1             0   \n",
       "\n",
       "                   Assault on women with intent to outrage her modesty  \\\n",
       "STATE/UT                                                                 \n",
       "uttar pradesh                                                  45606     \n",
       "andhra pradesh                                                 63476     \n",
       "west bengal                                                    33454     \n",
       "rajasthan                                                      41681     \n",
       "madhya pradesh                                                 97739     \n",
       "maharashtra                                                    57352     \n",
       "assam                                                          19128     \n",
       "kerala                                                         40219     \n",
       "gujarat                                                        11593     \n",
       "bihar                                                           8479     \n",
       "odisha                                                         40107     \n",
       "karnataka                                                      32875     \n",
       "tamil nadu                                                     21702     \n",
       "delhi                                                          15371     \n",
       "haryana                                                         8571     \n",
       "chhattisgarh                                                   23548     \n",
       "jharkhand                                                       4949     \n",
       "punjab                                                          6205     \n",
       "jammu & kashmir                                                14319     \n",
       "tripura                                                         3672     \n",
       "uttarakhand                                                     2183     \n",
       "himachal pradesh                                                4628     \n",
       "telangana                                                       3188     \n",
       "chandigarh                                                       544     \n",
       "manipur                                                          661     \n",
       "meghalaya                                                        735     \n",
       "arunachal pradesh                                                998     \n",
       "mizoram                                                          994     \n",
       "goa                                                              692     \n",
       "puducherry                                                       657     \n",
       "a & n islands                                                    300     \n",
       "sikkim                                                           293     \n",
       "nagaland                                                         130     \n",
       "d & n haveli                                                      53     \n",
       "daman & diu                                                       20     \n",
       "lakshadweep                                                        7     \n",
       "\n",
       "                   Insult to modesty of Women  \\\n",
       "STATE/UT                                        \n",
       "uttar pradesh                           26565   \n",
       "andhra pradesh                          43482   \n",
       "west bengal                              2674   \n",
       "rajasthan                                 397   \n",
       "madhya pradesh                          10482   \n",
       "maharashtra                             16317   \n",
       "assam                                     127   \n",
       "kerala                                   3965   \n",
       "gujarat                                  1615   \n",
       "bihar                                     347   \n",
       "odisha                                   3744   \n",
       "karnataka                                1138   \n",
       "tamil nadu                              10585   \n",
       "delhi                                    3964   \n",
       "haryana                                  8933   \n",
       "chhattisgarh                             1984   \n",
       "jharkhand                                 283   \n",
       "punjab                                    864   \n",
       "jammu & kashmir                          4584   \n",
       "tripura                                    57   \n",
       "uttarakhand                              1595   \n",
       "himachal pradesh                          610   \n",
       "telangana                                1142   \n",
       "chandigarh                                171   \n",
       "manipur                                     3   \n",
       "meghalaya                                  62   \n",
       "arunachal pradesh                          24   \n",
       "mizoram                                    35   \n",
       "goa                                       234   \n",
       "puducherry                                300   \n",
       "a & n islands                              56   \n",
       "sikkim                                     17   \n",
       "nagaland                                   12   \n",
       "d & n haveli                                6   \n",
       "daman & diu                                 2   \n",
       "lakshadweep                                 2   \n",
       "\n",
       "                   Cruelty by Husband or his Relatives  Importation of Girls  \\\n",
       "STATE/UT                                                                       \n",
       "uttar pradesh                                    96869                     3   \n",
       "andhra pradesh                                  140453                    17   \n",
       "west bengal                                     172062                   127   \n",
       "rajasthan                                       131100                     7   \n",
       "madhya pradesh                                   51408                    67   \n",
       "maharashtra                                      96601                     3   \n",
       "assam                                            57650                    11   \n",
       "kerala                                           55813                     0   \n",
       "gujarat                                          73234                     0   \n",
       "bihar                                            34885                   452   \n",
       "odisha                                           24603                    18   \n",
       "karnataka                                        36353                    47   \n",
       "tamil nadu                                       22762                    15   \n",
       "delhi                                            21417                     1   \n",
       "haryana                                          34207                     2   \n",
       "chhattisgarh                                     11718                     6   \n",
       "jharkhand                                        11955                   149   \n",
       "punjab                                           15420                     2   \n",
       "jammu & kashmir                                   2695                     0   \n",
       "tripura                                           8043                     0   \n",
       "uttarakhand                                       4878                     1   \n",
       "himachal pradesh                                  3898                     0   \n",
       "telangana                                         6369                     0   \n",
       "chandigarh                                        1040                     0   \n",
       "manipur                                            289                     0   \n",
       "meghalaya                                          230                     4   \n",
       "arunachal pradesh                                  238                     0   \n",
       "mizoram                                             67                     3   \n",
       "goa                                                266                     0   \n",
       "puducherry                                         117                     0   \n",
       "a & n islands                                      144                     0   \n",
       "sikkim                                              54                     0   \n",
       "nagaland                                            16                     1   \n",
       "d & n haveli                                        45                     0   \n",
       "daman & diu                                         38                     0   \n",
       "lakshadweep                                          7                     0   \n",
       "\n",
       "                   Target  \n",
       "STATE/UT                   \n",
       "uttar pradesh      291199  \n",
       "andhra pradesh     287677  \n",
       "west bengal        268988  \n",
       "rajasthan          235093  \n",
       "madhya pradesh     233543  \n",
       "maharashtra        214792  \n",
       "assam              129682  \n",
       "kerala             112588  \n",
       "gujarat            110153  \n",
       "bihar              104188  \n",
       "odisha             101897  \n",
       "karnataka           89580  \n",
       "tamil nadu          81378  \n",
       "delhi               76081  \n",
       "haryana             73962  \n",
       "chhattisgarh        59193  \n",
       "jharkhand           39790  \n",
       "punjab              39129  \n",
       "jammu & kashmir     35846  \n",
       "tripura             15779  \n",
       "uttarakhand         14762  \n",
       "himachal pradesh    13587  \n",
       "telangana           12678  \n",
       "chandigarh           3026  \n",
       "manipur              2793  \n",
       "meghalaya            2705  \n",
       "arunachal pradesh    2656  \n",
       "mizoram              2153  \n",
       "goa                  2062  \n",
       "puducherry           1359  \n",
       "a & n islands         784  \n",
       "sikkim                741  \n",
       "nagaland              536  \n",
       "d & n haveli          283  \n",
       "daman & diu           115  \n",
       "lakshadweep            27  "
      ]
     },
     "execution_count": 518,
     "metadata": {},
     "output_type": "execute_result"
    }
   ],
   "source": [
    "crimes=['Rape','Kidnapping and Abduction','Dowry Deaths',\n",
    "        'Assault on women with intent to outrage her modesty',\n",
    "        'Insult to modesty of Women','Cruelty by Husband or his Relatives',\n",
    "        'Importation of Girls']\n",
    "\n",
    "data_state=pd.DataFrame()\n",
    "for i in crimes:\n",
    "    data_state_crimes=data.groupby(['STATE/UT'])[i].sum()\n",
    "    data_state[i]=data_state_crimes\n",
    "data_state[\"Target\"]=data_state.sum(axis=1)\n",
    "data_state = data_state.sort_values(by=\"Target\",ascending=False)\n",
    "data_state.reset_index()\n",
    "data_state"
   ]
  },
  {
   "cell_type": "markdown",
   "id": "85ec5090",
   "metadata": {},
   "source": [
    "### Top 3 States with Higher Number of Crimes"
   ]
  },
  {
   "cell_type": "code",
   "execution_count": 519,
   "id": "e031beca",
   "metadata": {},
   "outputs": [
    {
     "data": {
      "text/html": [
       "<div>\n",
       "<style scoped>\n",
       "    .dataframe tbody tr th:only-of-type {\n",
       "        vertical-align: middle;\n",
       "    }\n",
       "\n",
       "    .dataframe tbody tr th {\n",
       "        vertical-align: top;\n",
       "    }\n",
       "\n",
       "    .dataframe thead th {\n",
       "        text-align: right;\n",
       "    }\n",
       "</style>\n",
       "<table border=\"1\" class=\"dataframe\">\n",
       "  <thead>\n",
       "    <tr style=\"text-align: right;\">\n",
       "      <th></th>\n",
       "      <th>Rape</th>\n",
       "      <th>Kidnapping and Abduction</th>\n",
       "      <th>Dowry Deaths</th>\n",
       "      <th>Assault on women with intent to outrage her modesty</th>\n",
       "      <th>Insult to modesty of Women</th>\n",
       "      <th>Cruelty by Husband or his Relatives</th>\n",
       "      <th>Importation of Girls</th>\n",
       "      <th>Target</th>\n",
       "    </tr>\n",
       "    <tr>\n",
       "      <th>STATE/UT</th>\n",
       "      <th></th>\n",
       "      <th></th>\n",
       "      <th></th>\n",
       "      <th></th>\n",
       "      <th></th>\n",
       "      <th></th>\n",
       "      <th></th>\n",
       "      <th></th>\n",
       "    </tr>\n",
       "  </thead>\n",
       "  <tbody>\n",
       "    <tr>\n",
       "      <th>uttar pradesh</th>\n",
       "      <td>25575</td>\n",
       "      <td>67953</td>\n",
       "      <td>28628</td>\n",
       "      <td>45606</td>\n",
       "      <td>26565</td>\n",
       "      <td>96869</td>\n",
       "      <td>3</td>\n",
       "      <td>291199</td>\n",
       "    </tr>\n",
       "    <tr>\n",
       "      <th>andhra pradesh</th>\n",
       "      <td>16075</td>\n",
       "      <td>17252</td>\n",
       "      <td>6922</td>\n",
       "      <td>63476</td>\n",
       "      <td>43482</td>\n",
       "      <td>140453</td>\n",
       "      <td>17</td>\n",
       "      <td>287677</td>\n",
       "    </tr>\n",
       "    <tr>\n",
       "      <th>west bengal</th>\n",
       "      <td>23938</td>\n",
       "      <td>30579</td>\n",
       "      <td>6154</td>\n",
       "      <td>33454</td>\n",
       "      <td>2674</td>\n",
       "      <td>172062</td>\n",
       "      <td>127</td>\n",
       "      <td>268988</td>\n",
       "    </tr>\n",
       "  </tbody>\n",
       "</table>\n",
       "</div>"
      ],
      "text/plain": [
       "                 Rape  Kidnapping and Abduction  Dowry Deaths  \\\n",
       "STATE/UT                                                        \n",
       "uttar pradesh   25575                     67953         28628   \n",
       "andhra pradesh  16075                     17252          6922   \n",
       "west bengal     23938                     30579          6154   \n",
       "\n",
       "                Assault on women with intent to outrage her modesty  \\\n",
       "STATE/UT                                                              \n",
       "uttar pradesh                                               45606     \n",
       "andhra pradesh                                              63476     \n",
       "west bengal                                                 33454     \n",
       "\n",
       "                Insult to modesty of Women  \\\n",
       "STATE/UT                                     \n",
       "uttar pradesh                        26565   \n",
       "andhra pradesh                       43482   \n",
       "west bengal                           2674   \n",
       "\n",
       "                Cruelty by Husband or his Relatives  Importation of Girls  \\\n",
       "STATE/UT                                                                    \n",
       "uttar pradesh                                 96869                     3   \n",
       "andhra pradesh                               140453                    17   \n",
       "west bengal                                  172062                   127   \n",
       "\n",
       "                Target  \n",
       "STATE/UT                \n",
       "uttar pradesh   291199  \n",
       "andhra pradesh  287677  \n",
       "west bengal     268988  "
      ]
     },
     "execution_count": 519,
     "metadata": {},
     "output_type": "execute_result"
    }
   ],
   "source": [
    "data_state.head(3)"
   ]
  },
  {
   "cell_type": "markdown",
   "id": "6261146a",
   "metadata": {},
   "source": []
  },
  {
   "cell_type": "markdown",
   "id": "f4ac4b9b",
   "metadata": {},
   "source": [
    "## Label Encoding and Splitting data into Training and Testing data"
   ]
  },
  {
   "cell_type": "markdown",
   "id": "77d61596",
   "metadata": {},
   "source": [
    "### Label Encoding"
   ]
  },
  {
   "cell_type": "code",
   "execution_count": 520,
   "id": "92ee12ad",
   "metadata": {},
   "outputs": [],
   "source": [
    "inputs = data.drop('Target_Label', axis = 'columns')\n",
    "inputs= inputs.drop('Target', axis = 'columns')\n",
    "target = data['Target_Label']"
   ]
  },
  {
   "cell_type": "code",
   "execution_count": 521,
   "id": "90eb2fc8",
   "metadata": {},
   "outputs": [],
   "source": [
    "from sklearn.preprocessing import LabelEncoder"
   ]
  },
  {
   "cell_type": "code",
   "execution_count": 522,
   "id": "fefde124",
   "metadata": {},
   "outputs": [],
   "source": [
    "le_state = LabelEncoder()\n",
    "le_district = LabelEncoder()\n",
    "le_year = LabelEncoder()\n",
    "le_targetlabel = LabelEncoder()"
   ]
  },
  {
   "cell_type": "code",
   "execution_count": 523,
   "id": "b05e7e93",
   "metadata": {},
   "outputs": [],
   "source": [
    "inputs['STATE/UT_n'] = le_state.fit_transform(inputs['STATE/UT'])\n",
    "inputs['DISTRICT_n'] = le_district.fit_transform(inputs['DISTRICT'])\n",
    "inputs['Year_n'] = le_year.fit_transform(inputs['Year'])\n",
    "target = le_targetlabel.fit_transform(target)"
   ]
  },
  {
   "cell_type": "code",
   "execution_count": 524,
   "id": "12540042",
   "metadata": {},
   "outputs": [
    {
     "data": {
      "text/html": [
       "<div>\n",
       "<style scoped>\n",
       "    .dataframe tbody tr th:only-of-type {\n",
       "        vertical-align: middle;\n",
       "    }\n",
       "\n",
       "    .dataframe tbody tr th {\n",
       "        vertical-align: top;\n",
       "    }\n",
       "\n",
       "    .dataframe thead th {\n",
       "        text-align: right;\n",
       "    }\n",
       "</style>\n",
       "<table border=\"1\" class=\"dataframe\">\n",
       "  <thead>\n",
       "    <tr style=\"text-align: right;\">\n",
       "      <th></th>\n",
       "      <th>STATE/UT</th>\n",
       "      <th>DISTRICT</th>\n",
       "      <th>Year</th>\n",
       "      <th>Rape</th>\n",
       "      <th>Kidnapping and Abduction</th>\n",
       "      <th>Dowry Deaths</th>\n",
       "      <th>Assault on women with intent to outrage her modesty</th>\n",
       "      <th>Insult to modesty of Women</th>\n",
       "      <th>Cruelty by Husband or his Relatives</th>\n",
       "      <th>Importation of Girls</th>\n",
       "      <th>STATE/UT_n</th>\n",
       "      <th>DISTRICT_n</th>\n",
       "      <th>Year_n</th>\n",
       "    </tr>\n",
       "  </thead>\n",
       "  <tbody>\n",
       "    <tr>\n",
       "      <th>0</th>\n",
       "      <td>andhra pradesh</td>\n",
       "      <td>adilabad</td>\n",
       "      <td>2001</td>\n",
       "      <td>50</td>\n",
       "      <td>30</td>\n",
       "      <td>16</td>\n",
       "      <td>149</td>\n",
       "      <td>34</td>\n",
       "      <td>175</td>\n",
       "      <td>0</td>\n",
       "      <td>1</td>\n",
       "      <td>3</td>\n",
       "      <td>0</td>\n",
       "    </tr>\n",
       "    <tr>\n",
       "      <th>1</th>\n",
       "      <td>andhra pradesh</td>\n",
       "      <td>anantapur</td>\n",
       "      <td>2001</td>\n",
       "      <td>23</td>\n",
       "      <td>30</td>\n",
       "      <td>7</td>\n",
       "      <td>118</td>\n",
       "      <td>24</td>\n",
       "      <td>154</td>\n",
       "      <td>0</td>\n",
       "      <td>1</td>\n",
       "      <td>35</td>\n",
       "      <td>0</td>\n",
       "    </tr>\n",
       "    <tr>\n",
       "      <th>2</th>\n",
       "      <td>andhra pradesh</td>\n",
       "      <td>chittoor</td>\n",
       "      <td>2001</td>\n",
       "      <td>27</td>\n",
       "      <td>34</td>\n",
       "      <td>14</td>\n",
       "      <td>112</td>\n",
       "      <td>83</td>\n",
       "      <td>186</td>\n",
       "      <td>0</td>\n",
       "      <td>1</td>\n",
       "      <td>185</td>\n",
       "      <td>0</td>\n",
       "    </tr>\n",
       "    <tr>\n",
       "      <th>3</th>\n",
       "      <td>andhra pradesh</td>\n",
       "      <td>cuddapah</td>\n",
       "      <td>2001</td>\n",
       "      <td>20</td>\n",
       "      <td>20</td>\n",
       "      <td>17</td>\n",
       "      <td>126</td>\n",
       "      <td>38</td>\n",
       "      <td>57</td>\n",
       "      <td>0</td>\n",
       "      <td>1</td>\n",
       "      <td>205</td>\n",
       "      <td>0</td>\n",
       "    </tr>\n",
       "    <tr>\n",
       "      <th>4</th>\n",
       "      <td>andhra pradesh</td>\n",
       "      <td>east godavari</td>\n",
       "      <td>2001</td>\n",
       "      <td>23</td>\n",
       "      <td>26</td>\n",
       "      <td>12</td>\n",
       "      <td>109</td>\n",
       "      <td>58</td>\n",
       "      <td>247</td>\n",
       "      <td>0</td>\n",
       "      <td>1</td>\n",
       "      <td>263</td>\n",
       "      <td>0</td>\n",
       "    </tr>\n",
       "  </tbody>\n",
       "</table>\n",
       "</div>"
      ],
      "text/plain": [
       "         STATE/UT       DISTRICT  Year  Rape  Kidnapping and Abduction  \\\n",
       "0  andhra pradesh       adilabad  2001    50                        30   \n",
       "1  andhra pradesh      anantapur  2001    23                        30   \n",
       "2  andhra pradesh       chittoor  2001    27                        34   \n",
       "3  andhra pradesh       cuddapah  2001    20                        20   \n",
       "4  andhra pradesh  east godavari  2001    23                        26   \n",
       "\n",
       "   Dowry Deaths  Assault on women with intent to outrage her modesty  \\\n",
       "0            16                                                149     \n",
       "1             7                                                118     \n",
       "2            14                                                112     \n",
       "3            17                                                126     \n",
       "4            12                                                109     \n",
       "\n",
       "   Insult to modesty of Women  Cruelty by Husband or his Relatives  \\\n",
       "0                          34                                  175   \n",
       "1                          24                                  154   \n",
       "2                          83                                  186   \n",
       "3                          38                                   57   \n",
       "4                          58                                  247   \n",
       "\n",
       "   Importation of Girls  STATE/UT_n  DISTRICT_n  Year_n  \n",
       "0                     0           1           3       0  \n",
       "1                     0           1          35       0  \n",
       "2                     0           1         185       0  \n",
       "3                     0           1         205       0  \n",
       "4                     0           1         263       0  "
      ]
     },
     "execution_count": 524,
     "metadata": {},
     "output_type": "execute_result"
    }
   ],
   "source": [
    "inputs.head()\n"
   ]
  },
  {
   "cell_type": "code",
   "execution_count": 525,
   "id": "5800c95c",
   "metadata": {},
   "outputs": [
    {
     "data": {
      "text/plain": [
       "array([1, 1, 1, ..., 1, 1, 1])"
      ]
     },
     "execution_count": 525,
     "metadata": {},
     "output_type": "execute_result"
    }
   ],
   "source": [
    "target"
   ]
  },
  {
   "cell_type": "code",
   "execution_count": 526,
   "id": "841adaef",
   "metadata": {},
   "outputs": [],
   "source": [
    "inputs_n = inputs.drop(['STATE/UT', 'DISTRICT' , 'Year'], axis = 'columns')"
   ]
  },
  {
   "cell_type": "code",
   "execution_count": 527,
   "id": "522a1137",
   "metadata": {},
   "outputs": [
    {
     "data": {
      "text/html": [
       "<div>\n",
       "<style scoped>\n",
       "    .dataframe tbody tr th:only-of-type {\n",
       "        vertical-align: middle;\n",
       "    }\n",
       "\n",
       "    .dataframe tbody tr th {\n",
       "        vertical-align: top;\n",
       "    }\n",
       "\n",
       "    .dataframe thead th {\n",
       "        text-align: right;\n",
       "    }\n",
       "</style>\n",
       "<table border=\"1\" class=\"dataframe\">\n",
       "  <thead>\n",
       "    <tr style=\"text-align: right;\">\n",
       "      <th></th>\n",
       "      <th>Rape</th>\n",
       "      <th>Kidnapping and Abduction</th>\n",
       "      <th>Dowry Deaths</th>\n",
       "      <th>Assault on women with intent to outrage her modesty</th>\n",
       "      <th>Insult to modesty of Women</th>\n",
       "      <th>Cruelty by Husband or his Relatives</th>\n",
       "      <th>Importation of Girls</th>\n",
       "      <th>STATE/UT_n</th>\n",
       "      <th>DISTRICT_n</th>\n",
       "      <th>Year_n</th>\n",
       "    </tr>\n",
       "  </thead>\n",
       "  <tbody>\n",
       "    <tr>\n",
       "      <th>0</th>\n",
       "      <td>50</td>\n",
       "      <td>30</td>\n",
       "      <td>16</td>\n",
       "      <td>149</td>\n",
       "      <td>34</td>\n",
       "      <td>175</td>\n",
       "      <td>0</td>\n",
       "      <td>1</td>\n",
       "      <td>3</td>\n",
       "      <td>0</td>\n",
       "    </tr>\n",
       "    <tr>\n",
       "      <th>1</th>\n",
       "      <td>23</td>\n",
       "      <td>30</td>\n",
       "      <td>7</td>\n",
       "      <td>118</td>\n",
       "      <td>24</td>\n",
       "      <td>154</td>\n",
       "      <td>0</td>\n",
       "      <td>1</td>\n",
       "      <td>35</td>\n",
       "      <td>0</td>\n",
       "    </tr>\n",
       "    <tr>\n",
       "      <th>2</th>\n",
       "      <td>27</td>\n",
       "      <td>34</td>\n",
       "      <td>14</td>\n",
       "      <td>112</td>\n",
       "      <td>83</td>\n",
       "      <td>186</td>\n",
       "      <td>0</td>\n",
       "      <td>1</td>\n",
       "      <td>185</td>\n",
       "      <td>0</td>\n",
       "    </tr>\n",
       "    <tr>\n",
       "      <th>3</th>\n",
       "      <td>20</td>\n",
       "      <td>20</td>\n",
       "      <td>17</td>\n",
       "      <td>126</td>\n",
       "      <td>38</td>\n",
       "      <td>57</td>\n",
       "      <td>0</td>\n",
       "      <td>1</td>\n",
       "      <td>205</td>\n",
       "      <td>0</td>\n",
       "    </tr>\n",
       "    <tr>\n",
       "      <th>4</th>\n",
       "      <td>23</td>\n",
       "      <td>26</td>\n",
       "      <td>12</td>\n",
       "      <td>109</td>\n",
       "      <td>58</td>\n",
       "      <td>247</td>\n",
       "      <td>0</td>\n",
       "      <td>1</td>\n",
       "      <td>263</td>\n",
       "      <td>0</td>\n",
       "    </tr>\n",
       "  </tbody>\n",
       "</table>\n",
       "</div>"
      ],
      "text/plain": [
       "   Rape  Kidnapping and Abduction  Dowry Deaths  \\\n",
       "0    50                        30            16   \n",
       "1    23                        30             7   \n",
       "2    27                        34            14   \n",
       "3    20                        20            17   \n",
       "4    23                        26            12   \n",
       "\n",
       "   Assault on women with intent to outrage her modesty  \\\n",
       "0                                                149     \n",
       "1                                                118     \n",
       "2                                                112     \n",
       "3                                                126     \n",
       "4                                                109     \n",
       "\n",
       "   Insult to modesty of Women  Cruelty by Husband or his Relatives  \\\n",
       "0                          34                                  175   \n",
       "1                          24                                  154   \n",
       "2                          83                                  186   \n",
       "3                          38                                   57   \n",
       "4                          58                                  247   \n",
       "\n",
       "   Importation of Girls  STATE/UT_n  DISTRICT_n  Year_n  \n",
       "0                     0           1           3       0  \n",
       "1                     0           1          35       0  \n",
       "2                     0           1         185       0  \n",
       "3                     0           1         205       0  \n",
       "4                     0           1         263       0  "
      ]
     },
     "execution_count": 527,
     "metadata": {},
     "output_type": "execute_result"
    }
   ],
   "source": [
    "inputs_n.head()"
   ]
  },
  {
   "cell_type": "markdown",
   "id": "bcac5ba7",
   "metadata": {},
   "source": [
    "### Splitting"
   ]
  },
  {
   "cell_type": "code",
   "execution_count": 528,
   "id": "1a625acb",
   "metadata": {},
   "outputs": [],
   "source": [
    "from sklearn.model_selection import train_test_split"
   ]
  },
  {
   "cell_type": "code",
   "execution_count": 529,
   "id": "600bd18c",
   "metadata": {},
   "outputs": [
    {
     "data": {
      "text/plain": [
       "((7130, 10), (3056, 10))"
      ]
     },
     "execution_count": 529,
     "metadata": {},
     "output_type": "execute_result"
    }
   ],
   "source": [
    "X_train, X_test, Y_train, Y_test = train_test_split(inputs_n, target ,random_state= 101, stratify= target, train_size = 0.7)\n",
    "X_train.shape , X_test.shape"
   ]
  },
  {
   "cell_type": "code",
   "execution_count": 530,
   "id": "f2f3835d",
   "metadata": {},
   "outputs": [],
   "source": [
    "accuracy = []"
   ]
  },
  {
   "cell_type": "markdown",
   "id": "50948f79",
   "metadata": {},
   "source": [
    "## Classification"
   ]
  },
  {
   "cell_type": "markdown",
   "id": "77c81fc9",
   "metadata": {},
   "source": [
    "### Decision Tree"
   ]
  },
  {
   "cell_type": "code",
   "execution_count": 531,
   "id": "c273a8c3",
   "metadata": {},
   "outputs": [],
   "source": [
    "from sklearn.tree import DecisionTreeClassifier"
   ]
  },
  {
   "cell_type": "code",
   "execution_count": 532,
   "id": "eb38cc66",
   "metadata": {},
   "outputs": [],
   "source": [
    "from sklearn.metrics import confusion_matrix"
   ]
  },
  {
   "cell_type": "code",
   "execution_count": 533,
   "id": "e0340f6e",
   "metadata": {},
   "outputs": [],
   "source": [
    "dt_model=DecisionTreeClassifier(random_state=10)"
   ]
  },
  {
   "cell_type": "code",
   "execution_count": 534,
   "id": "c7fc65d0",
   "metadata": {},
   "outputs": [
    {
     "data": {
      "text/plain": [
       "DecisionTreeClassifier(random_state=10)"
      ]
     },
     "execution_count": 534,
     "metadata": {},
     "output_type": "execute_result"
    }
   ],
   "source": [
    "dt_model.fit(X_train,Y_train)"
   ]
  },
  {
   "cell_type": "code",
   "execution_count": 535,
   "id": "72831033",
   "metadata": {},
   "outputs": [
    {
     "data": {
      "text/plain": [
       "1.0"
      ]
     },
     "execution_count": 535,
     "metadata": {},
     "output_type": "execute_result"
    }
   ],
   "source": [
    "dt_model.score(X_train,Y_train)"
   ]
  },
  {
   "cell_type": "code",
   "execution_count": 536,
   "id": "574230a9",
   "metadata": {},
   "outputs": [
    {
     "data": {
      "text/plain": [
       "0.9954188481675392"
      ]
     },
     "execution_count": 536,
     "metadata": {},
     "output_type": "execute_result"
    }
   ],
   "source": [
    "dt_model.score(X_test,Y_test)"
   ]
  },
  {
   "cell_type": "code",
   "execution_count": 537,
   "id": "e56457ba",
   "metadata": {},
   "outputs": [],
   "source": [
    "dt_accuracy = dt_model.score(X_test,Y_test)"
   ]
  },
  {
   "cell_type": "code",
   "execution_count": 538,
   "id": "c7f70014",
   "metadata": {},
   "outputs": [],
   "source": [
    "accuracy.append(dt_accuracy*100)"
   ]
  },
  {
   "cell_type": "code",
   "execution_count": 539,
   "id": "07054987",
   "metadata": {},
   "outputs": [],
   "source": [
    "result=dt_model.predict(X_test)"
   ]
  },
  {
   "cell_type": "code",
   "execution_count": 540,
   "id": "d7d237b6",
   "metadata": {},
   "outputs": [
    {
     "data": {
      "text/plain": [
       "array([1, 1, 1, ..., 1, 1, 1])"
      ]
     },
     "execution_count": 540,
     "metadata": {},
     "output_type": "execute_result"
    }
   ],
   "source": [
    "result"
   ]
  },
  {
   "cell_type": "code",
   "execution_count": 541,
   "id": "3a01eef5",
   "metadata": {},
   "outputs": [
    {
     "data": {
      "text/html": [
       "<div>\n",
       "<style scoped>\n",
       "    .dataframe tbody tr th:only-of-type {\n",
       "        vertical-align: middle;\n",
       "    }\n",
       "\n",
       "    .dataframe tbody tr th {\n",
       "        vertical-align: top;\n",
       "    }\n",
       "\n",
       "    .dataframe thead th {\n",
       "        text-align: right;\n",
       "    }\n",
       "</style>\n",
       "<table border=\"1\" class=\"dataframe\">\n",
       "  <thead>\n",
       "    <tr style=\"text-align: right;\">\n",
       "      <th></th>\n",
       "      <th>Actual</th>\n",
       "      <th>Predicted</th>\n",
       "    </tr>\n",
       "  </thead>\n",
       "  <tbody>\n",
       "    <tr>\n",
       "      <th>0</th>\n",
       "      <td>1</td>\n",
       "      <td>1</td>\n",
       "    </tr>\n",
       "    <tr>\n",
       "      <th>1</th>\n",
       "      <td>1</td>\n",
       "      <td>1</td>\n",
       "    </tr>\n",
       "    <tr>\n",
       "      <th>2</th>\n",
       "      <td>1</td>\n",
       "      <td>1</td>\n",
       "    </tr>\n",
       "    <tr>\n",
       "      <th>3</th>\n",
       "      <td>1</td>\n",
       "      <td>1</td>\n",
       "    </tr>\n",
       "    <tr>\n",
       "      <th>4</th>\n",
       "      <td>1</td>\n",
       "      <td>1</td>\n",
       "    </tr>\n",
       "    <tr>\n",
       "      <th>...</th>\n",
       "      <td>...</td>\n",
       "      <td>...</td>\n",
       "    </tr>\n",
       "    <tr>\n",
       "      <th>3051</th>\n",
       "      <td>1</td>\n",
       "      <td>1</td>\n",
       "    </tr>\n",
       "    <tr>\n",
       "      <th>3052</th>\n",
       "      <td>1</td>\n",
       "      <td>1</td>\n",
       "    </tr>\n",
       "    <tr>\n",
       "      <th>3053</th>\n",
       "      <td>1</td>\n",
       "      <td>1</td>\n",
       "    </tr>\n",
       "    <tr>\n",
       "      <th>3054</th>\n",
       "      <td>1</td>\n",
       "      <td>1</td>\n",
       "    </tr>\n",
       "    <tr>\n",
       "      <th>3055</th>\n",
       "      <td>1</td>\n",
       "      <td>1</td>\n",
       "    </tr>\n",
       "  </tbody>\n",
       "</table>\n",
       "<p>3056 rows × 2 columns</p>\n",
       "</div>"
      ],
      "text/plain": [
       "      Actual  Predicted\n",
       "0          1          1\n",
       "1          1          1\n",
       "2          1          1\n",
       "3          1          1\n",
       "4          1          1\n",
       "...      ...        ...\n",
       "3051       1          1\n",
       "3052       1          1\n",
       "3053       1          1\n",
       "3054       1          1\n",
       "3055       1          1\n",
       "\n",
       "[3056 rows x 2 columns]"
      ]
     },
     "execution_count": 541,
     "metadata": {},
     "output_type": "execute_result"
    }
   ],
   "source": [
    "data_dt_cls=pd.DataFrame({'Actual':Y_test, 'Predicted':result})\n",
    "data_dt_cls"
   ]
  },
  {
   "cell_type": "code",
   "execution_count": 542,
   "id": "29cbac9b",
   "metadata": {},
   "outputs": [
    {
     "data": {
      "text/plain": [
       "array([[0., 1., 0.],\n",
       "       [0., 1., 0.],\n",
       "       [0., 1., 0.],\n",
       "       ...,\n",
       "       [0., 1., 0.],\n",
       "       [0., 1., 0.],\n",
       "       [0., 1., 0.]])"
      ]
     },
     "execution_count": 542,
     "metadata": {},
     "output_type": "execute_result"
    }
   ],
   "source": [
    "dt_model.predict_proba(X_test)"
   ]
  },
  {
   "cell_type": "markdown",
   "id": "1021218d",
   "metadata": {},
   "source": [
    "#### Confusion Matrix"
   ]
  },
  {
   "cell_type": "code",
   "execution_count": 543,
   "id": "b4423087",
   "metadata": {},
   "outputs": [],
   "source": [
    "from sklearn import metrics"
   ]
  },
  {
   "cell_type": "code",
   "execution_count": 544,
   "id": "b605ada7",
   "metadata": {},
   "outputs": [
    {
     "name": "stdout",
     "output_type": "stream",
     "text": [
      "[[   4    0    0]\n",
      " [   0 3021    6]\n",
      " [   1    7   17]]\n"
     ]
    }
   ],
   "source": [
    "\n",
    "print(confusion_matrix(Y_test, result))"
   ]
  },
  {
   "cell_type": "code",
   "execution_count": 545,
   "id": "59207f62",
   "metadata": {},
   "outputs": [
    {
     "data": {
      "text/plain": [
       "Text(91.68, 0.5, 'Predicted')"
      ]
     },
     "execution_count": 545,
     "metadata": {},
     "output_type": "execute_result"
    },
    {
     "data": {
      "image/png": "[encoded data removed]",
      "text/plain": [
       "<Figure size 432x288 with 1 Axes>"
      ]
     },
     "metadata": {
      "needs_background": "light"
     },
     "output_type": "display_data"
    }
   ],
   "source": [
    "mat = confusion_matrix(result, Y_test)\n",
    "names = np.unique(result)\n",
    "sns.heatmap(mat, square=True, annot=True, fmt='d', cbar=False,\n",
    "            xticklabels=names, yticklabels=names)\n",
    "plt.xlabel('Truth')\n",
    "plt.ylabel('Predicted')"
   ]
  },
  {
   "cell_type": "markdown",
   "id": "33d555cd",
   "metadata": {},
   "source": [
    "#### Precision, Recall and F1 Score"
   ]
  },
  {
   "cell_type": "code",
   "execution_count": 546,
   "id": "f37cc7b0",
   "metadata": {},
   "outputs": [],
   "source": [
    "from sklearn.metrics import precision_recall_curve\n",
    "from sklearn.metrics import plot_precision_recall_curve\n",
    "from sklearn.metrics import precision_score,f1_score\n",
    "from sklearn.metrics import recall_score"
   ]
  },
  {
   "cell_type": "code",
   "execution_count": 547,
   "id": "8d27e477",
   "metadata": {},
   "outputs": [
    {
     "name": "stdout",
     "output_type": "stream",
     "text": [
      "Precision:  0.9953143235034357\n",
      "Recall:  0.9954188481675392\n",
      "F1_Score:  0.9953419379521826\n"
     ]
    }
   ],
   "source": [
    "precision = precision_score(Y_test, result,average='weighted')\n",
    "recall = recall_score(Y_test, result,average='weighted')\n",
    "score = f1_score(Y_test, result, average='weighted')\n",
    " \n",
    "print('Precision: ',precision)\n",
    "print('Recall: ',recall)\n",
    "print('F1_Score: ',score)\n"
   ]
  },
  {
   "cell_type": "markdown",
   "id": "b44d9514",
   "metadata": {},
   "source": [
    "#### Mean Absolute Error, MSE, RMSE"
   ]
  },
  {
   "cell_type": "code",
   "execution_count": 548,
   "id": "73a45328",
   "metadata": {},
   "outputs": [
    {
     "name": "stdout",
     "output_type": "stream",
     "text": [
      "Mean Absolute Error: 0.004908376963350785\n",
      "Mean Squared Error: 0.00556282722513089\n",
      "Root Mean Squared Error: 0.07458436314088154\n"
     ]
    }
   ],
   "source": [
    "print('Mean Absolute Error:', metrics.mean_absolute_error(Y_test, result))\n",
    "print('Mean Squared Error:', metrics.mean_squared_error(Y_test, result))\n",
    "print('Root Mean Squared Error:', np.sqrt(metrics.mean_squared_error(Y_test, result)))"
   ]
  },
  {
   "cell_type": "markdown",
   "id": "f627d902",
   "metadata": {},
   "source": [
    "#### Plot a tree"
   ]
  },
  {
   "cell_type": "code",
   "execution_count": 549,
   "id": "26c29c20",
   "metadata": {},
   "outputs": [],
   "source": [
    "from sklearn import tree\n",
    "decision_tree=tree.export_graphviz(dt_model,out_file='tree.dot',feature_names=X_train.columns,max_depth=10,filled=True)"
   ]
  },
  {
   "cell_type": "code",
   "execution_count": 550,
   "id": "60d357da",
   "metadata": {},
   "outputs": [
    {
     "data": {
      "text/plain": [
       "array([1])"
      ]
     },
     "execution_count": 550,
     "metadata": {},
     "output_type": "execute_result"
    }
   ],
   "source": [
    " dt_model.predict([[1,2,3,4,5,6,7,9,8,0]])"
   ]
  },
  {
   "cell_type": "markdown",
   "id": "aa83601c",
   "metadata": {},
   "source": [
    "### Random Forest Classifier"
   ]
  },
  {
   "cell_type": "code",
   "execution_count": 551,
   "id": "155a38c8",
   "metadata": {},
   "outputs": [],
   "source": [
    "from sklearn.ensemble import RandomForestClassifier"
   ]
  },
  {
   "cell_type": "code",
   "execution_count": 552,
   "id": "92711449",
   "metadata": {},
   "outputs": [],
   "source": [
    "rf = RandomForestClassifier(n_jobs=-1)"
   ]
  },
  {
   "cell_type": "code",
   "execution_count": 553,
   "id": "902037a6",
   "metadata": {},
   "outputs": [
    {
     "data": {
      "text/plain": [
       "RandomForestClassifier(n_jobs=-1)"
      ]
     },
     "execution_count": 553,
     "metadata": {},
     "output_type": "execute_result"
    }
   ],
   "source": [
    "rf.fit(X_train,Y_train)"
   ]
  },
  {
   "cell_type": "code",
   "execution_count": 554,
   "id": "4ade7f4d",
   "metadata": {},
   "outputs": [
    {
     "data": {
      "text/plain": [
       "0.9967277486910995"
      ]
     },
     "execution_count": 554,
     "metadata": {},
     "output_type": "execute_result"
    }
   ],
   "source": [
    "rf.score(X_test, Y_test)"
   ]
  },
  {
   "cell_type": "code",
   "execution_count": 555,
   "id": "1c3fa9d9",
   "metadata": {},
   "outputs": [],
   "source": [
    "rf_accuracy = rf.score(X_test, Y_test)"
   ]
  },
  {
   "cell_type": "code",
   "execution_count": 556,
   "id": "9f728990",
   "metadata": {},
   "outputs": [],
   "source": [
    "accuracy.append(rf_accuracy*100)"
   ]
  },
  {
   "cell_type": "code",
   "execution_count": 557,
   "id": "71ece296",
   "metadata": {},
   "outputs": [],
   "source": [
    "result = rf.predict(X_test)"
   ]
  },
  {
   "cell_type": "code",
   "execution_count": 558,
   "id": "a1709369",
   "metadata": {},
   "outputs": [
    {
     "data": {
      "text/plain": [
       "array([1, 1, 1, ..., 1, 1, 1])"
      ]
     },
     "execution_count": 558,
     "metadata": {},
     "output_type": "execute_result"
    }
   ],
   "source": [
    "result\n"
   ]
  },
  {
   "cell_type": "code",
   "execution_count": 559,
   "id": "d18b15c0",
   "metadata": {},
   "outputs": [
    {
     "data": {
      "text/html": [
       "<div>\n",
       "<style scoped>\n",
       "    .dataframe tbody tr th:only-of-type {\n",
       "        vertical-align: middle;\n",
       "    }\n",
       "\n",
       "    .dataframe tbody tr th {\n",
       "        vertical-align: top;\n",
       "    }\n",
       "\n",
       "    .dataframe thead th {\n",
       "        text-align: right;\n",
       "    }\n",
       "</style>\n",
       "<table border=\"1\" class=\"dataframe\">\n",
       "  <thead>\n",
       "    <tr style=\"text-align: right;\">\n",
       "      <th></th>\n",
       "      <th>Actual</th>\n",
       "      <th>Predicted</th>\n",
       "    </tr>\n",
       "  </thead>\n",
       "  <tbody>\n",
       "    <tr>\n",
       "      <th>0</th>\n",
       "      <td>1</td>\n",
       "      <td>1</td>\n",
       "    </tr>\n",
       "    <tr>\n",
       "      <th>1</th>\n",
       "      <td>1</td>\n",
       "      <td>1</td>\n",
       "    </tr>\n",
       "    <tr>\n",
       "      <th>2</th>\n",
       "      <td>1</td>\n",
       "      <td>1</td>\n",
       "    </tr>\n",
       "    <tr>\n",
       "      <th>3</th>\n",
       "      <td>1</td>\n",
       "      <td>1</td>\n",
       "    </tr>\n",
       "    <tr>\n",
       "      <th>4</th>\n",
       "      <td>1</td>\n",
       "      <td>1</td>\n",
       "    </tr>\n",
       "    <tr>\n",
       "      <th>...</th>\n",
       "      <td>...</td>\n",
       "      <td>...</td>\n",
       "    </tr>\n",
       "    <tr>\n",
       "      <th>3051</th>\n",
       "      <td>1</td>\n",
       "      <td>1</td>\n",
       "    </tr>\n",
       "    <tr>\n",
       "      <th>3052</th>\n",
       "      <td>1</td>\n",
       "      <td>1</td>\n",
       "    </tr>\n",
       "    <tr>\n",
       "      <th>3053</th>\n",
       "      <td>1</td>\n",
       "      <td>1</td>\n",
       "    </tr>\n",
       "    <tr>\n",
       "      <th>3054</th>\n",
       "      <td>1</td>\n",
       "      <td>1</td>\n",
       "    </tr>\n",
       "    <tr>\n",
       "      <th>3055</th>\n",
       "      <td>1</td>\n",
       "      <td>1</td>\n",
       "    </tr>\n",
       "  </tbody>\n",
       "</table>\n",
       "<p>3056 rows × 2 columns</p>\n",
       "</div>"
      ],
      "text/plain": [
       "      Actual  Predicted\n",
       "0          1          1\n",
       "1          1          1\n",
       "2          1          1\n",
       "3          1          1\n",
       "4          1          1\n",
       "...      ...        ...\n",
       "3051       1          1\n",
       "3052       1          1\n",
       "3053       1          1\n",
       "3054       1          1\n",
       "3055       1          1\n",
       "\n",
       "[3056 rows x 2 columns]"
      ]
     },
     "execution_count": 559,
     "metadata": {},
     "output_type": "execute_result"
    }
   ],
   "source": [
    "data_rf_cls = pd.DataFrame({'Actual': Y_test, 'Predicted': result})\n",
    "data_rf_cls"
   ]
  },
  {
   "cell_type": "code",
   "execution_count": 560,
   "id": "2f0434d6",
   "metadata": {},
   "outputs": [
    {
     "data": {
      "text/plain": [
       "array([[0., 1., 0.],\n",
       "       [0., 1., 0.],\n",
       "       [0., 1., 0.],\n",
       "       ...,\n",
       "       [0., 1., 0.],\n",
       "       [0., 1., 0.],\n",
       "       [0., 1., 0.]])"
      ]
     },
     "execution_count": 560,
     "metadata": {},
     "output_type": "execute_result"
    }
   ],
   "source": [
    "rf.predict_proba(X_test)"
   ]
  },
  {
   "cell_type": "markdown",
   "id": "0bd11f26",
   "metadata": {},
   "source": [
    "#### Confusion Matrix"
   ]
  },
  {
   "cell_type": "code",
   "execution_count": 561,
   "id": "b3a36d08",
   "metadata": {},
   "outputs": [
    {
     "name": "stdout",
     "output_type": "stream",
     "text": [
      "[[   3    0    1]\n",
      " [   0 3026    1]\n",
      " [   1    7   17]]\n"
     ]
    }
   ],
   "source": [
    "print(confusion_matrix(Y_test, result))"
   ]
  },
  {
   "cell_type": "code",
   "execution_count": 562,
   "id": "e4360f16",
   "metadata": {},
   "outputs": [
    {
     "data": {
      "text/plain": [
       "Text(91.68, 0.5, 'Predicted')"
      ]
     },
     "execution_count": 562,
     "metadata": {},
     "output_type": "execute_result"
    },
    {
     "data": {
      "image/png": "[encoded data removed]",
      "text/plain": [
       "<Figure size 432x288 with 1 Axes>"
      ]
     },
     "metadata": {
      "needs_background": "light"
     },
     "output_type": "display_data"
    }
   ],
   "source": [
    "mat = confusion_matrix(result, Y_test)\n",
    "names = np.unique(result)\n",
    "sns.heatmap(mat, square=True, annot=True, fmt='d', cbar=False,\n",
    "            xticklabels=names, yticklabels=names)\n",
    "plt.xlabel('Truth')\n",
    "plt.ylabel('Predicted')"
   ]
  },
  {
   "cell_type": "markdown",
   "id": "bffbd14f",
   "metadata": {},
   "source": [
    "#### Precision, Recall and F1 Score"
   ]
  },
  {
   "cell_type": "code",
   "execution_count": 563,
   "id": "9c1054a1",
   "metadata": {},
   "outputs": [
    {
     "name": "stdout",
     "output_type": "stream",
     "text": [
      "Precision:  0.99652561149483\n",
      "Recall:  0.9967277486910995\n",
      "F1_Score:  0.9965059365884233\n"
     ]
    }
   ],
   "source": [
    "precision = precision_score(Y_test, result,average='weighted')\n",
    "recall = recall_score(Y_test, result,average='weighted')\n",
    "score = f1_score(Y_test, result, average='weighted')\n",
    " \n",
    "print('Precision: ',precision)\n",
    "print('Recall: ',recall)\n",
    "print('F1_Score: ',score)"
   ]
  },
  {
   "cell_type": "markdown",
   "id": "3dccd6f4",
   "metadata": {},
   "source": [
    "#### Mean Absolute Error, MSE, RMSE"
   ]
  },
  {
   "cell_type": "code",
   "execution_count": 564,
   "id": "3a7f5512",
   "metadata": {},
   "outputs": [
    {
     "name": "stdout",
     "output_type": "stream",
     "text": [
      "Mean Absolute Error: 0.003926701570680628\n",
      "Mean Squared Error: 0.005235602094240838\n",
      "Root Mean Squared Error: 0.07235746052924216\n"
     ]
    }
   ],
   "source": [
    "print('Mean Absolute Error:', metrics.mean_absolute_error(Y_test, result))\n",
    "print('Mean Squared Error:', metrics.mean_squared_error(Y_test, result))\n",
    "print('Root Mean Squared Error:', np.sqrt(metrics.mean_squared_error(Y_test, result)))"
   ]
  },
  {
   "cell_type": "code",
   "execution_count": 565,
   "id": "ffe9db0f",
   "metadata": {},
   "outputs": [
    {
     "data": {
      "text/plain": [
       "array([1])"
      ]
     },
     "execution_count": 565,
     "metadata": {},
     "output_type": "execute_result"
    }
   ],
   "source": [
    "rf.predict([[1,2,3,4,5,6,7,9,8,0]])"
   ]
  },
  {
   "cell_type": "markdown",
   "id": "5435e182",
   "metadata": {},
   "source": [
    "## Naive Bayes "
   ]
  },
  {
   "cell_type": "code",
   "execution_count": 566,
   "id": "0ecf678f",
   "metadata": {},
   "outputs": [],
   "source": [
    "from sklearn.naive_bayes import GaussianNB\n",
    "nb_model = GaussianNB()"
   ]
  },
  {
   "cell_type": "code",
   "execution_count": 567,
   "id": "a7a2c1bf",
   "metadata": {},
   "outputs": [
    {
     "data": {
      "text/plain": [
       "GaussianNB()"
      ]
     },
     "execution_count": 567,
     "metadata": {},
     "output_type": "execute_result"
    }
   ],
   "source": [
    "nb_model.fit(X_train, Y_train)"
   ]
  },
  {
   "cell_type": "code",
   "execution_count": 568,
   "id": "2a7a09e3",
   "metadata": {},
   "outputs": [
    {
     "data": {
      "text/plain": [
       "0.9663394109396914"
      ]
     },
     "execution_count": 568,
     "metadata": {},
     "output_type": "execute_result"
    }
   ],
   "source": [
    "nb_model.score(X_train,Y_train)"
   ]
  },
  {
   "cell_type": "code",
   "execution_count": 569,
   "id": "83cb6d66",
   "metadata": {},
   "outputs": [
    {
     "data": {
      "text/plain": [
       "0.9669502617801047"
      ]
     },
     "execution_count": 569,
     "metadata": {},
     "output_type": "execute_result"
    }
   ],
   "source": [
    "nb_model.score(X_test,Y_test)"
   ]
  },
  {
   "cell_type": "code",
   "execution_count": 570,
   "id": "4ee0847f",
   "metadata": {},
   "outputs": [],
   "source": [
    "nb_accuracy = nb_model.score(X_test,Y_test)"
   ]
  },
  {
   "cell_type": "code",
   "execution_count": 571,
   "id": "2713b545",
   "metadata": {},
   "outputs": [],
   "source": [
    "accuracy.append(nb_accuracy*100)"
   ]
  },
  {
   "cell_type": "code",
   "execution_count": 572,
   "id": "eddcdd46",
   "metadata": {},
   "outputs": [],
   "source": [
    "result=nb_model.predict(X_test)"
   ]
  },
  {
   "cell_type": "code",
   "execution_count": 573,
   "id": "6a2d6a9b",
   "metadata": {},
   "outputs": [
    {
     "data": {
      "text/plain": [
       "array([1, 1, 1, ..., 1, 1, 1])"
      ]
     },
     "execution_count": 573,
     "metadata": {},
     "output_type": "execute_result"
    }
   ],
   "source": [
    "result"
   ]
  },
  {
   "cell_type": "code",
   "execution_count": 574,
   "id": "66022e7c",
   "metadata": {},
   "outputs": [
    {
     "data": {
      "text/html": [
       "<div>\n",
       "<style scoped>\n",
       "    .dataframe tbody tr th:only-of-type {\n",
       "        vertical-align: middle;\n",
       "    }\n",
       "\n",
       "    .dataframe tbody tr th {\n",
       "        vertical-align: top;\n",
       "    }\n",
       "\n",
       "    .dataframe thead th {\n",
       "        text-align: right;\n",
       "    }\n",
       "</style>\n",
       "<table border=\"1\" class=\"dataframe\">\n",
       "  <thead>\n",
       "    <tr style=\"text-align: right;\">\n",
       "      <th></th>\n",
       "      <th>Actual</th>\n",
       "      <th>Predicted</th>\n",
       "    </tr>\n",
       "  </thead>\n",
       "  <tbody>\n",
       "    <tr>\n",
       "      <th>0</th>\n",
       "      <td>1</td>\n",
       "      <td>1</td>\n",
       "    </tr>\n",
       "    <tr>\n",
       "      <th>1</th>\n",
       "      <td>1</td>\n",
       "      <td>1</td>\n",
       "    </tr>\n",
       "    <tr>\n",
       "      <th>2</th>\n",
       "      <td>1</td>\n",
       "      <td>1</td>\n",
       "    </tr>\n",
       "    <tr>\n",
       "      <th>3</th>\n",
       "      <td>1</td>\n",
       "      <td>1</td>\n",
       "    </tr>\n",
       "    <tr>\n",
       "      <th>4</th>\n",
       "      <td>1</td>\n",
       "      <td>1</td>\n",
       "    </tr>\n",
       "    <tr>\n",
       "      <th>...</th>\n",
       "      <td>...</td>\n",
       "      <td>...</td>\n",
       "    </tr>\n",
       "    <tr>\n",
       "      <th>3051</th>\n",
       "      <td>1</td>\n",
       "      <td>1</td>\n",
       "    </tr>\n",
       "    <tr>\n",
       "      <th>3052</th>\n",
       "      <td>1</td>\n",
       "      <td>1</td>\n",
       "    </tr>\n",
       "    <tr>\n",
       "      <th>3053</th>\n",
       "      <td>1</td>\n",
       "      <td>1</td>\n",
       "    </tr>\n",
       "    <tr>\n",
       "      <th>3054</th>\n",
       "      <td>1</td>\n",
       "      <td>1</td>\n",
       "    </tr>\n",
       "    <tr>\n",
       "      <th>3055</th>\n",
       "      <td>1</td>\n",
       "      <td>1</td>\n",
       "    </tr>\n",
       "  </tbody>\n",
       "</table>\n",
       "<p>3056 rows × 2 columns</p>\n",
       "</div>"
      ],
      "text/plain": [
       "      Actual  Predicted\n",
       "0          1          1\n",
       "1          1          1\n",
       "2          1          1\n",
       "3          1          1\n",
       "4          1          1\n",
       "...      ...        ...\n",
       "3051       1          1\n",
       "3052       1          1\n",
       "3053       1          1\n",
       "3054       1          1\n",
       "3055       1          1\n",
       "\n",
       "[3056 rows x 2 columns]"
      ]
     },
     "execution_count": 574,
     "metadata": {},
     "output_type": "execute_result"
    }
   ],
   "source": [
    "data_nb_cls=pd.DataFrame({'Actual':Y_test, 'Predicted':result})\n",
    "data_nb_cls"
   ]
  },
  {
   "cell_type": "code",
   "execution_count": 575,
   "id": "6425c3fb",
   "metadata": {},
   "outputs": [
    {
     "data": {
      "text/plain": [
       "array([[4.47211491e-08, 9.99900891e-01, 9.90642257e-05],\n",
       "       [5.46181267e-13, 1.00000000e+00, 2.32186588e-11],\n",
       "       [1.43080487e-16, 1.00000000e+00, 8.61655957e-13],\n",
       "       ...,\n",
       "       [2.36038673e-13, 9.99999997e-01, 2.63988604e-09],\n",
       "       [2.14161154e-11, 9.99999953e-01, 4.72103613e-08],\n",
       "       [1.04178135e-18, 1.00000000e+00, 1.80133102e-12]])"
      ]
     },
     "execution_count": 575,
     "metadata": {},
     "output_type": "execute_result"
    }
   ],
   "source": [
    "nb_model.predict_proba(X_test)"
   ]
  },
  {
   "cell_type": "markdown",
   "id": "58af5360",
   "metadata": {},
   "source": [
    "#### Confusion Matrix"
   ]
  },
  {
   "cell_type": "code",
   "execution_count": 576,
   "id": "88a37c0a",
   "metadata": {},
   "outputs": [
    {
     "name": "stdout",
     "output_type": "stream",
     "text": [
      "[[   4    0    0]\n",
      " [   0 2928   99]\n",
      " [   2    0   23]]\n"
     ]
    }
   ],
   "source": [
    "print(confusion_matrix(Y_test, result))"
   ]
  },
  {
   "cell_type": "code",
   "execution_count": 577,
   "id": "9f392525",
   "metadata": {},
   "outputs": [
    {
     "data": {
      "text/plain": [
       "Text(91.68, 0.5, 'Predicted')"
      ]
     },
     "execution_count": 577,
     "metadata": {},
     "output_type": "execute_result"
    },
    {
     "data": {
      "image/png": "[encoded data removed]",
      "text/plain": [
       "<Figure size 432x288 with 1 Axes>"
      ]
     },
     "metadata": {
      "needs_background": "light"
     },
     "output_type": "display_data"
    }
   ],
   "source": [
    "mat = confusion_matrix(result, Y_test)\n",
    "names = np.unique(result)\n",
    "sns.heatmap(mat, square=True, annot=True, fmt='d', cbar=False,\n",
    "            xticklabels=names, yticklabels=names)\n",
    "plt.xlabel('Truth')\n",
    "plt.ylabel('Predicted')"
   ]
  },
  {
   "cell_type": "markdown",
   "id": "9ade3c42",
   "metadata": {},
   "source": [
    "#### Precision, Recall and F1 Score"
   ]
  },
  {
   "cell_type": "code",
   "execution_count": 578,
   "id": "3afb8f14",
   "metadata": {},
   "outputs": [
    {
     "name": "stdout",
     "output_type": "stream",
     "text": [
      "Precision:  0.9929253211455383\n",
      "Recall:  0.9669502617801047\n",
      "F1_Score:  0.9776505914061986\n"
     ]
    }
   ],
   "source": [
    "precision = precision_score(Y_test, result,average='weighted')\n",
    "recall = recall_score(Y_test, result,average='weighted')\n",
    "score = f1_score(Y_test, result, average='weighted')\n",
    " \n",
    "print('Precision: ',precision)\n",
    "print('Recall: ',recall)\n",
    "print('F1_Score: ',score)"
   ]
  },
  {
   "cell_type": "markdown",
   "id": "90336895",
   "metadata": {},
   "source": [
    "#### Mean Absolute Error, MSE, RMSE"
   ]
  },
  {
   "cell_type": "code",
   "execution_count": 579,
   "id": "951a0bf7",
   "metadata": {},
   "outputs": [
    {
     "name": "stdout",
     "output_type": "stream",
     "text": [
      "Mean Absolute Error: 0.03370418848167539\n",
      "Mean Squared Error: 0.0350130890052356\n",
      "Root Mean Squared Error: 0.18711784790670183\n"
     ]
    }
   ],
   "source": [
    "print('Mean Absolute Error:', metrics.mean_absolute_error(Y_test, result))\n",
    "print('Mean Squared Error:', metrics.mean_squared_error(Y_test, result))\n",
    "print('Root Mean Squared Error:', np.sqrt(metrics.mean_squared_error(Y_test, result)))"
   ]
  },
  {
   "cell_type": "code",
   "execution_count": 580,
   "id": "43882384",
   "metadata": {},
   "outputs": [
    {
     "data": {
      "text/plain": [
       "array([1])"
      ]
     },
     "execution_count": 580,
     "metadata": {},
     "output_type": "execute_result"
    }
   ],
   "source": [
    "nb_model.predict([[1,2,3,4,5,6,7,9,8,0]])"
   ]
  },
  {
   "cell_type": "markdown",
   "id": "d175c4bd",
   "metadata": {},
   "source": [
    "## Support Vector machine"
   ]
  },
  {
   "cell_type": "code",
   "execution_count": 581,
   "id": "b61d440c",
   "metadata": {},
   "outputs": [],
   "source": [
    "from sklearn.svm import SVC\n",
    "SVM_model = SVC()"
   ]
  },
  {
   "cell_type": "code",
   "execution_count": 582,
   "id": "152c89a4",
   "metadata": {},
   "outputs": [
    {
     "data": {
      "text/plain": [
       "SVC()"
      ]
     },
     "execution_count": 582,
     "metadata": {},
     "output_type": "execute_result"
    }
   ],
   "source": [
    "SVM_model.fit(X_train,Y_train)"
   ]
  },
  {
   "cell_type": "code",
   "execution_count": 583,
   "id": "cd337439",
   "metadata": {},
   "outputs": [
    {
     "data": {
      "text/plain": [
       "0.9985974754558204"
      ]
     },
     "execution_count": 583,
     "metadata": {},
     "output_type": "execute_result"
    }
   ],
   "source": [
    "SVM_model.score(X_train,Y_train)"
   ]
  },
  {
   "cell_type": "code",
   "execution_count": 584,
   "id": "d4374dae",
   "metadata": {},
   "outputs": [
    {
     "data": {
      "text/plain": [
       "0.9964005235602095"
      ]
     },
     "execution_count": 584,
     "metadata": {},
     "output_type": "execute_result"
    }
   ],
   "source": [
    "SVM_model.score(X_test,Y_test)"
   ]
  },
  {
   "cell_type": "code",
   "execution_count": 585,
   "id": "ea7a8da3",
   "metadata": {},
   "outputs": [],
   "source": [
    "SVM_accuracy = SVM_model.score(X_test,Y_test)"
   ]
  },
  {
   "cell_type": "code",
   "execution_count": 586,
   "id": "06945349",
   "metadata": {},
   "outputs": [],
   "source": [
    "accuracy.append(SVM_accuracy*100)"
   ]
  },
  {
   "cell_type": "code",
   "execution_count": 587,
   "id": "52593234",
   "metadata": {},
   "outputs": [],
   "source": [
    "result=SVM_model.predict(X_test)"
   ]
  },
  {
   "cell_type": "code",
   "execution_count": 588,
   "id": "6113c983",
   "metadata": {},
   "outputs": [
    {
     "data": {
      "text/plain": [
       "array([1, 1, 1, ..., 1, 1, 1])"
      ]
     },
     "execution_count": 588,
     "metadata": {},
     "output_type": "execute_result"
    }
   ],
   "source": [
    "result"
   ]
  },
  {
   "cell_type": "code",
   "execution_count": 589,
   "id": "238c57bd",
   "metadata": {},
   "outputs": [
    {
     "data": {
      "text/html": [
       "<div>\n",
       "<style scoped>\n",
       "    .dataframe tbody tr th:only-of-type {\n",
       "        vertical-align: middle;\n",
       "    }\n",
       "\n",
       "    .dataframe tbody tr th {\n",
       "        vertical-align: top;\n",
       "    }\n",
       "\n",
       "    .dataframe thead th {\n",
       "        text-align: right;\n",
       "    }\n",
       "</style>\n",
       "<table border=\"1\" class=\"dataframe\">\n",
       "  <thead>\n",
       "    <tr style=\"text-align: right;\">\n",
       "      <th></th>\n",
       "      <th>Actual</th>\n",
       "      <th>Predicted</th>\n",
       "    </tr>\n",
       "  </thead>\n",
       "  <tbody>\n",
       "    <tr>\n",
       "      <th>0</th>\n",
       "      <td>1</td>\n",
       "      <td>1</td>\n",
       "    </tr>\n",
       "    <tr>\n",
       "      <th>1</th>\n",
       "      <td>1</td>\n",
       "      <td>1</td>\n",
       "    </tr>\n",
       "    <tr>\n",
       "      <th>2</th>\n",
       "      <td>1</td>\n",
       "      <td>1</td>\n",
       "    </tr>\n",
       "    <tr>\n",
       "      <th>3</th>\n",
       "      <td>1</td>\n",
       "      <td>1</td>\n",
       "    </tr>\n",
       "    <tr>\n",
       "      <th>4</th>\n",
       "      <td>1</td>\n",
       "      <td>1</td>\n",
       "    </tr>\n",
       "    <tr>\n",
       "      <th>...</th>\n",
       "      <td>...</td>\n",
       "      <td>...</td>\n",
       "    </tr>\n",
       "    <tr>\n",
       "      <th>3051</th>\n",
       "      <td>1</td>\n",
       "      <td>1</td>\n",
       "    </tr>\n",
       "    <tr>\n",
       "      <th>3052</th>\n",
       "      <td>1</td>\n",
       "      <td>1</td>\n",
       "    </tr>\n",
       "    <tr>\n",
       "      <th>3053</th>\n",
       "      <td>1</td>\n",
       "      <td>1</td>\n",
       "    </tr>\n",
       "    <tr>\n",
       "      <th>3054</th>\n",
       "      <td>1</td>\n",
       "      <td>1</td>\n",
       "    </tr>\n",
       "    <tr>\n",
       "      <th>3055</th>\n",
       "      <td>1</td>\n",
       "      <td>1</td>\n",
       "    </tr>\n",
       "  </tbody>\n",
       "</table>\n",
       "<p>3056 rows × 2 columns</p>\n",
       "</div>"
      ],
      "text/plain": [
       "      Actual  Predicted\n",
       "0          1          1\n",
       "1          1          1\n",
       "2          1          1\n",
       "3          1          1\n",
       "4          1          1\n",
       "...      ...        ...\n",
       "3051       1          1\n",
       "3052       1          1\n",
       "3053       1          1\n",
       "3054       1          1\n",
       "3055       1          1\n",
       "\n",
       "[3056 rows x 2 columns]"
      ]
     },
     "execution_count": 589,
     "metadata": {},
     "output_type": "execute_result"
    }
   ],
   "source": [
    "data_svm_cls=pd.DataFrame({'Actual':Y_test, 'Predicted':result})\n",
    "data_svm_cls"
   ]
  },
  {
   "cell_type": "markdown",
   "id": "0382d6d3",
   "metadata": {},
   "source": [
    "#### Confusion matrix"
   ]
  },
  {
   "cell_type": "code",
   "execution_count": 590,
   "id": "2a40ddc1",
   "metadata": {},
   "outputs": [
    {
     "name": "stdout",
     "output_type": "stream",
     "text": [
      "[[   3    0    1]\n",
      " [   0 3027    0]\n",
      " [   1    9   15]]\n"
     ]
    }
   ],
   "source": [
    "print(confusion_matrix(Y_test, result))"
   ]
  },
  {
   "cell_type": "code",
   "execution_count": 591,
   "id": "47a112dd",
   "metadata": {},
   "outputs": [
    {
     "data": {
      "text/plain": [
       "Text(91.68, 0.5, 'Predicted')"
      ]
     },
     "execution_count": 591,
     "metadata": {},
     "output_type": "execute_result"
    },
    {
     "data": {
      "image/png": "[encoded data removed]",
      "text/plain": [
       "<Figure size 432x288 with 1 Axes>"
      ]
     },
     "metadata": {
      "needs_background": "light"
     },
     "output_type": "display_data"
    }
   ],
   "source": [
    "mat = confusion_matrix(result, Y_test)\n",
    "names = np.unique(result)\n",
    "sns.heatmap(mat, square=True, annot=True, fmt='d', cbar=False,\n",
    "            xticklabels=names, yticklabels=names)\n",
    "plt.xlabel('Truth')\n",
    "plt.ylabel('Predicted')"
   ]
  },
  {
   "cell_type": "markdown",
   "id": "7df55a7d",
   "metadata": {},
   "source": [
    "#### Precision, Recall and F1 Score"
   ]
  },
  {
   "cell_type": "code",
   "execution_count": 592,
   "id": "230d87bb",
   "metadata": {},
   "outputs": [
    {
     "name": "stdout",
     "output_type": "stream",
     "text": [
      "Precision:  0.9962251897388408\n",
      "Recall:  0.9964005235602095\n",
      "F1_Score:  0.9960076448914543\n"
     ]
    }
   ],
   "source": [
    "precision = precision_score(Y_test, result,average='weighted')\n",
    "recall = recall_score(Y_test, result,average='weighted')\n",
    "score = f1_score(Y_test, result, average='weighted')\n",
    " \n",
    "print('Precision: ',precision)\n",
    "print('Recall: ',recall)\n",
    "print('F1_Score: ',score)"
   ]
  },
  {
   "cell_type": "markdown",
   "id": "2a0d655c",
   "metadata": {},
   "source": [
    "#### Mean Absolute Error, MSE, RMSE"
   ]
  },
  {
   "cell_type": "code",
   "execution_count": 593,
   "id": "172ad54f",
   "metadata": {},
   "outputs": [
    {
     "name": "stdout",
     "output_type": "stream",
     "text": [
      "Mean Absolute Error: 0.004253926701570681\n",
      "Mean Squared Error: 0.00556282722513089\n",
      "Root Mean Squared Error: 0.07458436314088154\n"
     ]
    }
   ],
   "source": [
    "print('Mean Absolute Error:', metrics.mean_absolute_error(Y_test, result))\n",
    "print('Mean Squared Error:', metrics.mean_squared_error(Y_test, result))\n",
    "print('Root Mean Squared Error:', np.sqrt(metrics.mean_squared_error(Y_test, result)))"
   ]
  },
  {
   "cell_type": "code",
   "execution_count": 594,
   "id": "0394d192",
   "metadata": {},
   "outputs": [
    {
     "data": {
      "text/plain": [
       "array([1])"
      ]
     },
     "execution_count": 594,
     "metadata": {},
     "output_type": "execute_result"
    }
   ],
   "source": [
    " SVM_model.predict([[1,2,3,4,5,6,7,9,8,0]])"
   ]
  },
  {
   "cell_type": "markdown",
   "id": "138de0b8",
   "metadata": {},
   "source": [
    "### Classification accuracy plot"
   ]
  },
  {
   "cell_type": "code",
   "execution_count": 595,
   "id": "517bcdab",
   "metadata": {},
   "outputs": [
    {
     "data": {
      "text/plain": [
       "[99.54188481675392, 99.67277486910994, 96.69502617801047, 99.64005235602095]"
      ]
     },
     "execution_count": 595,
     "metadata": {},
     "output_type": "execute_result"
    }
   ],
   "source": [
    "accuracy"
   ]
  },
  {
   "cell_type": "code",
   "execution_count": 596,
   "id": "515503fa",
   "metadata": {},
   "outputs": [],
   "source": [
    "models = (\"DT\" , \"RFC\" , \"NB\" , \"SVM\")"
   ]
  },
  {
   "cell_type": "code",
   "execution_count": 597,
   "id": "6b371238",
   "metadata": {},
   "outputs": [
    {
     "data": {
      "image/png": "[encoded data removed]",
      "text/plain": [
       "<Figure size 432x288 with 1 Axes>"
      ]
     },
     "metadata": {
      "needs_background": "light"
     },
     "output_type": "display_data"
    }
   ],
   "source": [
    "plt.bar(models , accuracy , width = 0.8, color = ['lightskyblue', 'lightcoral','lightpink','cyan'])\n",
    "plt.title(\"Accuracy of various algorithms\")\n",
    "\n",
    "plt.xlabel(\"Various Algorithms\")\n",
    "plt.ylabel(\"Accuracy\")\n",
    "plt.ylim(96, 100.0)\n",
    "\n",
    "\n",
    "plt.show()"
   ]
  },
  {
   "cell_type": "markdown",
   "id": "fe17d553",
   "metadata": {},
   "source": [
    "## Regression"
   ]
  },
  {
   "cell_type": "code",
   "execution_count": 598,
   "id": "f97e02b4",
   "metadata": {},
   "outputs": [],
   "source": [
    "r_accuracy = []"
   ]
  },
  {
   "cell_type": "markdown",
   "id": "b7293f1b",
   "metadata": {},
   "source": [
    "### Decision Tree "
   ]
  },
  {
   "cell_type": "code",
   "execution_count": 599,
   "id": "6483ccf2",
   "metadata": {},
   "outputs": [],
   "source": [
    "from sklearn.tree import DecisionTreeRegressor\n"
   ]
  },
  {
   "cell_type": "code",
   "execution_count": 600,
   "id": "f23fb9d9",
   "metadata": {},
   "outputs": [],
   "source": [
    "dt_regressor = DecisionTreeRegressor(random_state=0)"
   ]
  },
  {
   "cell_type": "code",
   "execution_count": 601,
   "id": "01a16504",
   "metadata": {},
   "outputs": [
    {
     "data": {
      "text/plain": [
       "DecisionTreeRegressor(random_state=0)"
      ]
     },
     "execution_count": 601,
     "metadata": {},
     "output_type": "execute_result"
    }
   ],
   "source": [
    "dt_regressor.fit(X_train,Y_train)\n"
   ]
  },
  {
   "cell_type": "code",
   "execution_count": 602,
   "id": "25a87bdc",
   "metadata": {},
   "outputs": [
    {
     "data": {
      "text/plain": [
       "array([1., 1., 1., ..., 1., 1., 1.])"
      ]
     },
     "execution_count": 602,
     "metadata": {},
     "output_type": "execute_result"
    }
   ],
   "source": [
    "dt_regressor.predict(X_test)\n"
   ]
  },
  {
   "cell_type": "code",
   "execution_count": 603,
   "id": "34c0ef16",
   "metadata": {},
   "outputs": [
    {
     "data": {
      "text/plain": [
       "1.0"
      ]
     },
     "execution_count": 603,
     "metadata": {},
     "output_type": "execute_result"
    }
   ],
   "source": [
    "dt_regressor.score(X_train,Y_train)"
   ]
  },
  {
   "cell_type": "code",
   "execution_count": 604,
   "id": "ef88c82a",
   "metadata": {},
   "outputs": [
    {
     "data": {
      "text/plain": [
       "0.3415510926142228"
      ]
     },
     "execution_count": 604,
     "metadata": {},
     "output_type": "execute_result"
    }
   ],
   "source": [
    "dt_regressor.score(X_test,Y_test)"
   ]
  },
  {
   "cell_type": "code",
   "execution_count": 641,
   "id": "2417a85e",
   "metadata": {},
   "outputs": [],
   "source": [
    "dt_accuracy = dt_regressor.score(X_test,Y_test)"
   ]
  },
  {
   "cell_type": "code",
   "execution_count": 606,
   "id": "7fbff4ca",
   "metadata": {},
   "outputs": [],
   "source": [
    "r_accuracy.append(dt_accuracy * 100)"
   ]
  },
  {
   "cell_type": "code",
   "execution_count": 607,
   "id": "142f38fc",
   "metadata": {},
   "outputs": [],
   "source": [
    "result_dt_reg=dt_regressor.predict(X_test)"
   ]
  },
  {
   "cell_type": "code",
   "execution_count": 608,
   "id": "d6ac24b6",
   "metadata": {},
   "outputs": [
    {
     "data": {
      "text/plain": [
       "array([1., 1., 1., ..., 1., 1., 1.])"
      ]
     },
     "execution_count": 608,
     "metadata": {},
     "output_type": "execute_result"
    }
   ],
   "source": [
    "result_dt_reg"
   ]
  },
  {
   "cell_type": "code",
   "execution_count": 609,
   "id": "981aff0c",
   "metadata": {},
   "outputs": [
    {
     "data": {
      "text/html": [
       "<div>\n",
       "<style scoped>\n",
       "    .dataframe tbody tr th:only-of-type {\n",
       "        vertical-align: middle;\n",
       "    }\n",
       "\n",
       "    .dataframe tbody tr th {\n",
       "        vertical-align: top;\n",
       "    }\n",
       "\n",
       "    .dataframe thead th {\n",
       "        text-align: right;\n",
       "    }\n",
       "</style>\n",
       "<table border=\"1\" class=\"dataframe\">\n",
       "  <thead>\n",
       "    <tr style=\"text-align: right;\">\n",
       "      <th></th>\n",
       "      <th>Actual</th>\n",
       "      <th>Predicted</th>\n",
       "    </tr>\n",
       "  </thead>\n",
       "  <tbody>\n",
       "    <tr>\n",
       "      <th>0</th>\n",
       "      <td>1</td>\n",
       "      <td>1.0</td>\n",
       "    </tr>\n",
       "    <tr>\n",
       "      <th>1</th>\n",
       "      <td>1</td>\n",
       "      <td>1.0</td>\n",
       "    </tr>\n",
       "    <tr>\n",
       "      <th>2</th>\n",
       "      <td>1</td>\n",
       "      <td>1.0</td>\n",
       "    </tr>\n",
       "    <tr>\n",
       "      <th>3</th>\n",
       "      <td>1</td>\n",
       "      <td>1.0</td>\n",
       "    </tr>\n",
       "    <tr>\n",
       "      <th>4</th>\n",
       "      <td>1</td>\n",
       "      <td>1.0</td>\n",
       "    </tr>\n",
       "    <tr>\n",
       "      <th>...</th>\n",
       "      <td>...</td>\n",
       "      <td>...</td>\n",
       "    </tr>\n",
       "    <tr>\n",
       "      <th>3051</th>\n",
       "      <td>1</td>\n",
       "      <td>1.0</td>\n",
       "    </tr>\n",
       "    <tr>\n",
       "      <th>3052</th>\n",
       "      <td>1</td>\n",
       "      <td>1.0</td>\n",
       "    </tr>\n",
       "    <tr>\n",
       "      <th>3053</th>\n",
       "      <td>1</td>\n",
       "      <td>1.0</td>\n",
       "    </tr>\n",
       "    <tr>\n",
       "      <th>3054</th>\n",
       "      <td>1</td>\n",
       "      <td>1.0</td>\n",
       "    </tr>\n",
       "    <tr>\n",
       "      <th>3055</th>\n",
       "      <td>1</td>\n",
       "      <td>1.0</td>\n",
       "    </tr>\n",
       "  </tbody>\n",
       "</table>\n",
       "<p>3056 rows × 2 columns</p>\n",
       "</div>"
      ],
      "text/plain": [
       "      Actual  Predicted\n",
       "0          1        1.0\n",
       "1          1        1.0\n",
       "2          1        1.0\n",
       "3          1        1.0\n",
       "4          1        1.0\n",
       "...      ...        ...\n",
       "3051       1        1.0\n",
       "3052       1        1.0\n",
       "3053       1        1.0\n",
       "3054       1        1.0\n",
       "3055       1        1.0\n",
       "\n",
       "[3056 rows x 2 columns]"
      ]
     },
     "execution_count": 609,
     "metadata": {},
     "output_type": "execute_result"
    }
   ],
   "source": [
    "data_dt_reg=pd.DataFrame({'Actual':Y_test, 'Predicted':result_dt_reg})\n",
    "data_dt_reg"
   ]
  },
  {
   "cell_type": "code",
   "execution_count": 610,
   "id": "37ac5941",
   "metadata": {},
   "outputs": [
    {
     "name": "stdout",
     "output_type": "stream",
     "text": [
      "Precision:  0.9946315269488717\n",
      "Recall:  0.9947643979057592\n",
      "F1_Score:  0.9946739073520843\n"
     ]
    }
   ],
   "source": [
    "precision = precision_score(Y_test, result_dt_reg,average='weighted')\n",
    "recall = recall_score(Y_test, result_dt_reg,average='weighted')\n",
    "score = f1_score(Y_test, result_dt_reg, average='weighted')\n",
    "print('Precision: ',precision)\n",
    "print('Recall: ',recall)\n",
    "print('F1_Score: ',score)"
   ]
  },
  {
   "cell_type": "code",
   "execution_count": 611,
   "id": "afffc407",
   "metadata": {},
   "outputs": [
    {
     "data": {
      "text/plain": [
       "array([1.])"
      ]
     },
     "execution_count": 611,
     "metadata": {},
     "output_type": "execute_result"
    }
   ],
   "source": [
    " dt_regressor.predict([[1,2,3,4,5,6,7,9,8,0]])"
   ]
  },
  {
   "cell_type": "markdown",
   "id": "6eed70ef",
   "metadata": {},
   "source": [
    "### Random Forest "
   ]
  },
  {
   "cell_type": "code",
   "execution_count": 612,
   "id": "64e9d6cd",
   "metadata": {},
   "outputs": [],
   "source": [
    "from sklearn.ensemble import RandomForestRegressor"
   ]
  },
  {
   "cell_type": "code",
   "execution_count": 613,
   "id": "2d378b58",
   "metadata": {},
   "outputs": [],
   "source": [
    "rf_regressor = RandomForestRegressor(random_state=10)"
   ]
  },
  {
   "cell_type": "code",
   "execution_count": 614,
   "id": "4f31968f",
   "metadata": {},
   "outputs": [
    {
     "data": {
      "text/plain": [
       "RandomForestRegressor(random_state=10)"
      ]
     },
     "execution_count": 614,
     "metadata": {},
     "output_type": "execute_result"
    }
   ],
   "source": [
    "rf_regressor.fit(X_train,Y_train)"
   ]
  },
  {
   "cell_type": "code",
   "execution_count": 615,
   "id": "5072c5fe",
   "metadata": {},
   "outputs": [
    {
     "data": {
      "text/plain": [
       "array([1., 1., 1., ..., 1., 1., 1.])"
      ]
     },
     "execution_count": 615,
     "metadata": {},
     "output_type": "execute_result"
    }
   ],
   "source": [
    "rf_regressor.predict(X_test)"
   ]
  },
  {
   "cell_type": "code",
   "execution_count": 616,
   "id": "c5507acd",
   "metadata": {},
   "outputs": [
    {
     "data": {
      "text/plain": [
       "0.9534795446939545"
      ]
     },
     "execution_count": 616,
     "metadata": {},
     "output_type": "execute_result"
    }
   ],
   "source": [
    "rf_regressor.score(X_train,Y_train)"
   ]
  },
  {
   "cell_type": "code",
   "execution_count": 617,
   "id": "045dc71a",
   "metadata": {},
   "outputs": [
    {
     "data": {
      "text/plain": [
       "0.6188481861583299"
      ]
     },
     "execution_count": 617,
     "metadata": {},
     "output_type": "execute_result"
    }
   ],
   "source": [
    "rf_regressor.score(X_test,Y_test)"
   ]
  },
  {
   "cell_type": "code",
   "execution_count": 618,
   "id": "1dcb782e",
   "metadata": {},
   "outputs": [],
   "source": [
    "rf_accuracy = rf_regressor.score(X_test,Y_test)"
   ]
  },
  {
   "cell_type": "code",
   "execution_count": 619,
   "id": "ca99eba6",
   "metadata": {},
   "outputs": [],
   "source": [
    "r_accuracy.append(rf_accuracy * 100)"
   ]
  },
  {
   "cell_type": "code",
   "execution_count": 620,
   "id": "21a62895",
   "metadata": {},
   "outputs": [],
   "source": [
    "result_rf_reg=rf_regressor.predict(X_test)"
   ]
  },
  {
   "cell_type": "code",
   "execution_count": 621,
   "id": "1b0d130a",
   "metadata": {},
   "outputs": [
    {
     "data": {
      "text/plain": [
       "array([1., 1., 1., ..., 1., 1., 1.])"
      ]
     },
     "execution_count": 621,
     "metadata": {},
     "output_type": "execute_result"
    }
   ],
   "source": [
    "result_rf_reg"
   ]
  },
  {
   "cell_type": "code",
   "execution_count": 622,
   "id": "9372fee6",
   "metadata": {},
   "outputs": [
    {
     "data": {
      "text/html": [
       "<div>\n",
       "<style scoped>\n",
       "    .dataframe tbody tr th:only-of-type {\n",
       "        vertical-align: middle;\n",
       "    }\n",
       "\n",
       "    .dataframe tbody tr th {\n",
       "        vertical-align: top;\n",
       "    }\n",
       "\n",
       "    .dataframe thead th {\n",
       "        text-align: right;\n",
       "    }\n",
       "</style>\n",
       "<table border=\"1\" class=\"dataframe\">\n",
       "  <thead>\n",
       "    <tr style=\"text-align: right;\">\n",
       "      <th></th>\n",
       "      <th>Actual</th>\n",
       "      <th>Predicted</th>\n",
       "    </tr>\n",
       "  </thead>\n",
       "  <tbody>\n",
       "    <tr>\n",
       "      <th>0</th>\n",
       "      <td>1</td>\n",
       "      <td>1.0</td>\n",
       "    </tr>\n",
       "    <tr>\n",
       "      <th>1</th>\n",
       "      <td>1</td>\n",
       "      <td>1.0</td>\n",
       "    </tr>\n",
       "    <tr>\n",
       "      <th>2</th>\n",
       "      <td>1</td>\n",
       "      <td>1.0</td>\n",
       "    </tr>\n",
       "    <tr>\n",
       "      <th>3</th>\n",
       "      <td>1</td>\n",
       "      <td>1.0</td>\n",
       "    </tr>\n",
       "    <tr>\n",
       "      <th>4</th>\n",
       "      <td>1</td>\n",
       "      <td>1.0</td>\n",
       "    </tr>\n",
       "    <tr>\n",
       "      <th>...</th>\n",
       "      <td>...</td>\n",
       "      <td>...</td>\n",
       "    </tr>\n",
       "    <tr>\n",
       "      <th>3051</th>\n",
       "      <td>1</td>\n",
       "      <td>1.0</td>\n",
       "    </tr>\n",
       "    <tr>\n",
       "      <th>3052</th>\n",
       "      <td>1</td>\n",
       "      <td>1.0</td>\n",
       "    </tr>\n",
       "    <tr>\n",
       "      <th>3053</th>\n",
       "      <td>1</td>\n",
       "      <td>1.0</td>\n",
       "    </tr>\n",
       "    <tr>\n",
       "      <th>3054</th>\n",
       "      <td>1</td>\n",
       "      <td>1.0</td>\n",
       "    </tr>\n",
       "    <tr>\n",
       "      <th>3055</th>\n",
       "      <td>1</td>\n",
       "      <td>1.0</td>\n",
       "    </tr>\n",
       "  </tbody>\n",
       "</table>\n",
       "<p>3056 rows × 2 columns</p>\n",
       "</div>"
      ],
      "text/plain": [
       "      Actual  Predicted\n",
       "0          1        1.0\n",
       "1          1        1.0\n",
       "2          1        1.0\n",
       "3          1        1.0\n",
       "4          1        1.0\n",
       "...      ...        ...\n",
       "3051       1        1.0\n",
       "3052       1        1.0\n",
       "3053       1        1.0\n",
       "3054       1        1.0\n",
       "3055       1        1.0\n",
       "\n",
       "[3056 rows x 2 columns]"
      ]
     },
     "execution_count": 622,
     "metadata": {},
     "output_type": "execute_result"
    }
   ],
   "source": [
    "data_rf_reg=pd.DataFrame({'Actual':Y_test, 'Predicted':result_rf_reg})\n",
    "data_rf_reg"
   ]
  },
  {
   "cell_type": "markdown",
   "id": "0728865e",
   "metadata": {},
   "source": [
    "### Linear Regression"
   ]
  },
  {
   "cell_type": "code",
   "execution_count": 623,
   "id": "d2cef282",
   "metadata": {},
   "outputs": [],
   "source": [
    "from sklearn.linear_model import LinearRegression"
   ]
  },
  {
   "cell_type": "code",
   "execution_count": 624,
   "id": "27a6e696",
   "metadata": {},
   "outputs": [],
   "source": [
    "l_reg = LinearRegression()"
   ]
  },
  {
   "cell_type": "code",
   "execution_count": 625,
   "id": "f6156a7f",
   "metadata": {},
   "outputs": [
    {
     "data": {
      "text/plain": [
       "LinearRegression()"
      ]
     },
     "execution_count": 625,
     "metadata": {},
     "output_type": "execute_result"
    }
   ],
   "source": [
    "l_reg.fit(X_train, Y_train)"
   ]
  },
  {
   "cell_type": "code",
   "execution_count": 626,
   "id": "945e1e51",
   "metadata": {},
   "outputs": [
    {
     "data": {
      "text/plain": [
       "array([1.0034213 , 1.00275267, 0.99560739, ..., 0.9833192 , 1.00852046,\n",
       "       1.00214752])"
      ]
     },
     "execution_count": 626,
     "metadata": {},
     "output_type": "execute_result"
    }
   ],
   "source": [
    "l_reg.predict(X_test)"
   ]
  },
  {
   "cell_type": "code",
   "execution_count": 627,
   "id": "12458db7",
   "metadata": {},
   "outputs": [
    {
     "data": {
      "text/plain": [
       "0.16236003420235068"
      ]
     },
     "execution_count": 627,
     "metadata": {},
     "output_type": "execute_result"
    }
   ],
   "source": [
    "l_reg.score(X_train,Y_train)"
   ]
  },
  {
   "cell_type": "code",
   "execution_count": 628,
   "id": "d4ec6577",
   "metadata": {},
   "outputs": [
    {
     "data": {
      "text/plain": [
       "0.06863189439462059"
      ]
     },
     "execution_count": 628,
     "metadata": {},
     "output_type": "execute_result"
    }
   ],
   "source": [
    "l_reg.score(X_test,Y_test)"
   ]
  },
  {
   "cell_type": "code",
   "execution_count": 629,
   "id": "7a09b6e8",
   "metadata": {},
   "outputs": [],
   "source": [
    "l_reg_accuracy = l_reg.score(X_test,Y_test)"
   ]
  },
  {
   "cell_type": "code",
   "execution_count": 630,
   "id": "49b3242b",
   "metadata": {},
   "outputs": [],
   "source": [
    "r_accuracy.append(l_reg_accuracy * 100)"
   ]
  },
  {
   "cell_type": "code",
   "execution_count": 631,
   "id": "17a1c947",
   "metadata": {},
   "outputs": [],
   "source": [
    "result_ln_reg=l_reg.predict(X_test)"
   ]
  },
  {
   "cell_type": "code",
   "execution_count": 632,
   "id": "771f520b",
   "metadata": {},
   "outputs": [
    {
     "data": {
      "text/plain": [
       "array([1.0034213 , 1.00275267, 0.99560739, ..., 0.9833192 , 1.00852046,\n",
       "       1.00214752])"
      ]
     },
     "execution_count": 632,
     "metadata": {},
     "output_type": "execute_result"
    }
   ],
   "source": [
    "result_ln_reg"
   ]
  },
  {
   "cell_type": "code",
   "execution_count": 633,
   "id": "55f5c672",
   "metadata": {
    "scrolled": true
   },
   "outputs": [
    {
     "data": {
      "text/html": [
       "<div>\n",
       "<style scoped>\n",
       "    .dataframe tbody tr th:only-of-type {\n",
       "        vertical-align: middle;\n",
       "    }\n",
       "\n",
       "    .dataframe tbody tr th {\n",
       "        vertical-align: top;\n",
       "    }\n",
       "\n",
       "    .dataframe thead th {\n",
       "        text-align: right;\n",
       "    }\n",
       "</style>\n",
       "<table border=\"1\" class=\"dataframe\">\n",
       "  <thead>\n",
       "    <tr style=\"text-align: right;\">\n",
       "      <th></th>\n",
       "      <th>Actual</th>\n",
       "      <th>Predicted</th>\n",
       "    </tr>\n",
       "  </thead>\n",
       "  <tbody>\n",
       "    <tr>\n",
       "      <th>0</th>\n",
       "      <td>1</td>\n",
       "      <td>1.003421</td>\n",
       "    </tr>\n",
       "    <tr>\n",
       "      <th>1</th>\n",
       "      <td>1</td>\n",
       "      <td>1.002753</td>\n",
       "    </tr>\n",
       "    <tr>\n",
       "      <th>2</th>\n",
       "      <td>1</td>\n",
       "      <td>0.995607</td>\n",
       "    </tr>\n",
       "    <tr>\n",
       "      <th>3</th>\n",
       "      <td>1</td>\n",
       "      <td>1.030793</td>\n",
       "    </tr>\n",
       "    <tr>\n",
       "      <th>4</th>\n",
       "      <td>1</td>\n",
       "      <td>0.982841</td>\n",
       "    </tr>\n",
       "    <tr>\n",
       "      <th>...</th>\n",
       "      <td>...</td>\n",
       "      <td>...</td>\n",
       "    </tr>\n",
       "    <tr>\n",
       "      <th>3051</th>\n",
       "      <td>1</td>\n",
       "      <td>0.988267</td>\n",
       "    </tr>\n",
       "    <tr>\n",
       "      <th>3052</th>\n",
       "      <td>1</td>\n",
       "      <td>1.011024</td>\n",
       "    </tr>\n",
       "    <tr>\n",
       "      <th>3053</th>\n",
       "      <td>1</td>\n",
       "      <td>0.983319</td>\n",
       "    </tr>\n",
       "    <tr>\n",
       "      <th>3054</th>\n",
       "      <td>1</td>\n",
       "      <td>1.008520</td>\n",
       "    </tr>\n",
       "    <tr>\n",
       "      <th>3055</th>\n",
       "      <td>1</td>\n",
       "      <td>1.002148</td>\n",
       "    </tr>\n",
       "  </tbody>\n",
       "</table>\n",
       "<p>3056 rows × 2 columns</p>\n",
       "</div>"
      ],
      "text/plain": [
       "      Actual  Predicted\n",
       "0          1   1.003421\n",
       "1          1   1.002753\n",
       "2          1   0.995607\n",
       "3          1   1.030793\n",
       "4          1   0.982841\n",
       "...      ...        ...\n",
       "3051       1   0.988267\n",
       "3052       1   1.011024\n",
       "3053       1   0.983319\n",
       "3054       1   1.008520\n",
       "3055       1   1.002148\n",
       "\n",
       "[3056 rows x 2 columns]"
      ]
     },
     "execution_count": 633,
     "metadata": {},
     "output_type": "execute_result"
    }
   ],
   "source": [
    "data_ln=pd.DataFrame({'Actual':Y_test, 'Predicted':result_ln_reg})\n",
    "data_ln"
   ]
  },
  {
   "cell_type": "code",
   "execution_count": 634,
   "id": "0a800000",
   "metadata": {},
   "outputs": [
    {
     "data": {
      "text/plain": [
       "array([0.997252])"
      ]
     },
     "execution_count": 634,
     "metadata": {},
     "output_type": "execute_result"
    }
   ],
   "source": [
    " l_reg.predict([[1,2,3,4,5,6,7,9,8,0]])"
   ]
  },
  {
   "cell_type": "markdown",
   "id": "13bfc9e0",
   "metadata": {},
   "source": [
    "### Regression Accuracy plot"
   ]
  },
  {
   "cell_type": "code",
   "execution_count": 635,
   "id": "bdb90688",
   "metadata": {},
   "outputs": [
    {
     "data": {
      "text/plain": [
       "[34.155109261422275, 61.88481861583299, 6.863189439462058]"
      ]
     },
     "execution_count": 635,
     "metadata": {},
     "output_type": "execute_result"
    }
   ],
   "source": [
    "r_accuracy"
   ]
  },
  {
   "cell_type": "code",
   "execution_count": 636,
   "id": "8c860fde",
   "metadata": {},
   "outputs": [],
   "source": [
    "r_models = (\"DT\", \"RF\", \"Linear\")"
   ]
  },
  {
   "cell_type": "code",
   "execution_count": 637,
   "id": "3e6403a2",
   "metadata": {},
   "outputs": [
    {
     "data": {
      "image/png": "[encoded data removed]",
      "text/plain": [
       "<Figure size 432x288 with 1 Axes>"
      ]
     },
     "metadata": {
      "needs_background": "light"
     },
     "output_type": "display_data"
    }
   ],
   "source": [
    "plt.bar(r_models , r_accuracy , width = 0.8, color = ['lightskyblue', 'lightcoral','lightpink'])\n",
    "plt.title(\"Accuracy of various algorithms\")\n",
    "\n",
    "plt.xlabel(\"Various Algorithms\")\n",
    "plt.ylabel(\"Accuracy\")\n",
    "plt.ylim(0,70)\n",
    "\n",
    "plt.show()"
   ]
  },
  {
   "cell_type": "markdown",
   "id": "9c6c0715",
   "metadata": {},
   "source": [
    "## Clustering"
   ]
  },
  {
   "cell_type": "markdown",
   "id": "ff5c9d63",
   "metadata": {},
   "source": [
    "### BIRCH"
   ]
  },
  {
   "cell_type": "code",
   "execution_count": 638,
   "id": "c1cf2cc2",
   "metadata": {},
   "outputs": [
    {
     "data": {
      "text/plain": [
       "Birch(n_clusters=None, threshold=1.5)"
      ]
     },
     "execution_count": 638,
     "metadata": {},
     "output_type": "execute_result"
    }
   ],
   "source": [
    "\n",
    "from sklearn.datasets import make_blobs\n",
    "from sklearn.cluster import Birch\n",
    "\n",
    "\n",
    "model=Birch(branching_factor=50,n_clusters=None, threshold=1.5)\n",
    "\n",
    "model.fit(inputs_n)\n",
    "\n"
   ]
  },
  {
   "cell_type": "code",
   "execution_count": 639,
   "id": "de1b31b0",
   "metadata": {},
   "outputs": [
    {
     "data": {
      "text/plain": [
       "<matplotlib.collections.PathCollection at 0x1ff0de69b50>"
      ]
     },
     "execution_count": 639,
     "metadata": {},
     "output_type": "execute_result"
    },
    {
     "data": {
      "image/png": "[encoded data removed]",
      "text/plain": [
       "<Figure size 432x288 with 1 Axes>"
      ]
     },
     "metadata": {
      "needs_background": "light"
     },
     "output_type": "display_data"
    }
   ],
   "source": [
    "pred = model.predict(inputs_n)\n",
    "\n",
    "pred\n",
    "\n",
    "\n",
    "plt.scatter(inputs_n['Rape'],pred,cmap = 'rainbow', alpha = 0.7, edgecolors = 'b')"
   ]
  },
  {
   "cell_type": "code",
   "execution_count": 640,
   "id": "4ee0c307",
   "metadata": {},
   "outputs": [
    {
     "data": {
      "text/plain": [
       "<matplotlib.collections.PathCollection at 0x1ff0deb4d60>"
      ]
     },
     "execution_count": 640,
     "metadata": {},
     "output_type": "execute_result"
    },
    {
     "data": {
      "image/png": "[encoded data removed]",
      "text/plain": [
       "<Figure size 432x288 with 1 Axes>"
      ]
     },
     "metadata": {
      "needs_background": "light"
     },
     "output_type": "display_data"
    }
   ],
   "source": [
    "\n",
    "from sklearn.datasets import make_blobs\n",
    "from sklearn.cluster import Birch\n",
    "data, clusters = make_blobs(n_samples = 1000, centers = 12, cluster_std = 0.50, random_state = 0)\n",
    "data.shape\n",
    "model = Birch(branching_factor = 50, n_clusters = None, threshold = 1.5)\n",
    "model.fit(data)\n",
    "pred = model.predict(data)\n",
    "plt.scatter(data[:, 0], data[:, 1], c = pred)"
   ]
  },
  {
   "cell_type": "code",
   "execution_count": null,
   "id": "b8662c3f",
   "metadata": {},
   "outputs": [],
   "source": []
  }
 ],
 "metadata": {
  "kernelspec": {
   "display_name": "Python 3",
   "language": "python",
   "name": "python3"
  },
  "language_info": {
   "codemirror_mode": {
    "name": "ipython",
    "version": 3
   },
   "file_extension": ".py",
   "mimetype": "text/x-python",
   "name": "python",
   "nbconvert_exporter": "python",
   "pygments_lexer": "ipython3",
   "version": "3.8.8"
  }
 },
 "nbformat": 4,
 "nbformat_minor": 5
}
